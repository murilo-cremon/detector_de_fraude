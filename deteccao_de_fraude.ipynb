{
  "nbformat": 4,
  "nbformat_minor": 0,
  "metadata": {
    "colab": {
      "name": "deteccao_de_fraude.ipynb",
      "provenance": [],
      "collapsed_sections": [
        "-dJFO6Ut-Yxt",
        "iP3Et8iC-eAy",
        "0ESzxNNc-oYG",
        "EGVsgXyxA0vk",
        "fR8IvXcDGsp8"
      ],
      "toc_visible": true
    },
    "kernelspec": {
      "name": "python3",
      "display_name": "Python 3"
    }
  },
  "cells": [
    {
      "cell_type": "markdown",
      "metadata": {
        "id": "-dJFO6Ut-Yxt",
        "colab_type": "text"
      },
      "source": [
        "# **Importando Bibliotecas**"
      ]
    },
    {
      "cell_type": "code",
      "metadata": {
        "id": "6z-N9Wjt9Oxm",
        "colab_type": "code",
        "colab": {}
      },
      "source": [
        "import numpy as np\n",
        "import pandas as pd\n",
        "import matplotlib.pyplot as plt\n",
        "import seaborn as sns\n",
        "import itertools\n",
        "from datetime import timedelta\n",
        "from IPython.display import display\n",
        "from scipy import special\n",
        "from random import sample\n",
        "from sklearn.metrics import confusion_matrix\n",
        "from sklearn.svm import OneClassSVM\n",
        "from sklearn.tree import DecisionTreeClassifier\n",
        "from sklearn.ensemble import ExtraTreesClassifier\n",
        "from sklearn.preprocessing import RobustScaler\n",
        "from sklearn.model_selection import train_test_split\n",
        "from sklearn.ensemble import IsolationForest\n",
        "from sklearn.model_selection import GridSearchCV\n",
        "from sklearn.metrics import classification_report, roc_auc_score\n",
        "from sklearn.metrics import roc_curve\n",
        "from sklearn.metrics import f1_score"
      ],
      "execution_count": 0,
      "outputs": []
    },
    {
      "cell_type": "markdown",
      "metadata": {
        "id": "iP3Et8iC-eAy",
        "colab_type": "text"
      },
      "source": [
        "# **Importando Dados**"
      ]
    },
    {
      "cell_type": "code",
      "metadata": {
        "id": "BO1mcr259oqK",
        "colab_type": "code",
        "colab": {}
      },
      "source": [
        "fraude_df = pd.read_csv('dados_de_fraude.csv', header=0)\n",
        "ISP_df = pd.read_csv('endereco_ip_por_pais.csv', header=0)"
      ],
      "execution_count": 0,
      "outputs": []
    },
    {
      "cell_type": "code",
      "metadata": {
        "id": "f4bz9rxN-g4z",
        "colab_type": "code",
        "outputId": "77da04cc-1820-4bd1-f90b-cba49735fcac",
        "colab": {
          "base_uri": "https://localhost:8080/",
          "height": 204
        }
      },
      "source": [
        "fraude_df.head()"
      ],
      "execution_count": 92,
      "outputs": [
        {
          "output_type": "execute_result",
          "data": {
            "text/html": [
              "<div>\n",
              "<style scoped>\n",
              "    .dataframe tbody tr th:only-of-type {\n",
              "        vertical-align: middle;\n",
              "    }\n",
              "\n",
              "    .dataframe tbody tr th {\n",
              "        vertical-align: top;\n",
              "    }\n",
              "\n",
              "    .dataframe thead th {\n",
              "        text-align: right;\n",
              "    }\n",
              "</style>\n",
              "<table border=\"1\" class=\"dataframe\">\n",
              "  <thead>\n",
              "    <tr style=\"text-align: right;\">\n",
              "      <th></th>\n",
              "      <th>id</th>\n",
              "      <th>cadastro</th>\n",
              "      <th>compra</th>\n",
              "      <th>valor</th>\n",
              "      <th>id_dispositivo</th>\n",
              "      <th>fonte</th>\n",
              "      <th>browser</th>\n",
              "      <th>genero</th>\n",
              "      <th>idade</th>\n",
              "      <th>ip</th>\n",
              "      <th>fraude</th>\n",
              "    </tr>\n",
              "  </thead>\n",
              "  <tbody>\n",
              "    <tr>\n",
              "      <th>0</th>\n",
              "      <td>22058</td>\n",
              "      <td>2015-02-24 22:55:49</td>\n",
              "      <td>2015-04-18 02:47:11</td>\n",
              "      <td>34</td>\n",
              "      <td>QVPSPJUOCKZAR</td>\n",
              "      <td>SEO</td>\n",
              "      <td>Chrome</td>\n",
              "      <td>M</td>\n",
              "      <td>39</td>\n",
              "      <td>7.327584e+08</td>\n",
              "      <td>0</td>\n",
              "    </tr>\n",
              "    <tr>\n",
              "      <th>1</th>\n",
              "      <td>333320</td>\n",
              "      <td>2015-06-07 20:39:50</td>\n",
              "      <td>2015-06-08 01:38:54</td>\n",
              "      <td>16</td>\n",
              "      <td>EOGFQPIZPYXFZ</td>\n",
              "      <td>Ads</td>\n",
              "      <td>Chrome</td>\n",
              "      <td>F</td>\n",
              "      <td>53</td>\n",
              "      <td>3.503114e+08</td>\n",
              "      <td>0</td>\n",
              "    </tr>\n",
              "    <tr>\n",
              "      <th>2</th>\n",
              "      <td>1359</td>\n",
              "      <td>2015-01-01 18:52:44</td>\n",
              "      <td>2015-01-01 18:52:45</td>\n",
              "      <td>15</td>\n",
              "      <td>YSSKYOSJHPPLJ</td>\n",
              "      <td>SEO</td>\n",
              "      <td>Opera</td>\n",
              "      <td>M</td>\n",
              "      <td>53</td>\n",
              "      <td>2.621474e+09</td>\n",
              "      <td>1</td>\n",
              "    </tr>\n",
              "    <tr>\n",
              "      <th>3</th>\n",
              "      <td>150084</td>\n",
              "      <td>2015-04-28 21:13:25</td>\n",
              "      <td>2015-05-04 13:54:50</td>\n",
              "      <td>44</td>\n",
              "      <td>ATGTXKYKUDUQN</td>\n",
              "      <td>SEO</td>\n",
              "      <td>Safari</td>\n",
              "      <td>M</td>\n",
              "      <td>41</td>\n",
              "      <td>3.840542e+09</td>\n",
              "      <td>0</td>\n",
              "    </tr>\n",
              "    <tr>\n",
              "      <th>4</th>\n",
              "      <td>221365</td>\n",
              "      <td>2015-07-21 07:09:52</td>\n",
              "      <td>2015-09-09 18:40:53</td>\n",
              "      <td>39</td>\n",
              "      <td>NAUITBZFJKHWW</td>\n",
              "      <td>Ads</td>\n",
              "      <td>Safari</td>\n",
              "      <td>M</td>\n",
              "      <td>45</td>\n",
              "      <td>4.155831e+08</td>\n",
              "      <td>0</td>\n",
              "    </tr>\n",
              "  </tbody>\n",
              "</table>\n",
              "</div>"
            ],
            "text/plain": [
              "       id             cadastro  ...            ip  fraude\n",
              "0   22058  2015-02-24 22:55:49  ...  7.327584e+08       0\n",
              "1  333320  2015-06-07 20:39:50  ...  3.503114e+08       0\n",
              "2    1359  2015-01-01 18:52:44  ...  2.621474e+09       1\n",
              "3  150084  2015-04-28 21:13:25  ...  3.840542e+09       0\n",
              "4  221365  2015-07-21 07:09:52  ...  4.155831e+08       0\n",
              "\n",
              "[5 rows x 11 columns]"
            ]
          },
          "metadata": {
            "tags": []
          },
          "execution_count": 92
        }
      ]
    },
    {
      "cell_type": "code",
      "metadata": {
        "id": "YkDpa9HY-jx1",
        "colab_type": "code",
        "outputId": "8fc9b517-5ace-4515-ede2-2e4e72719395",
        "colab": {
          "base_uri": "https://localhost:8080/",
          "height": 204
        }
      },
      "source": [
        "ISP_df.head()"
      ],
      "execution_count": 93,
      "outputs": [
        {
          "output_type": "execute_result",
          "data": {
            "text/html": [
              "<div>\n",
              "<style scoped>\n",
              "    .dataframe tbody tr th:only-of-type {\n",
              "        vertical-align: middle;\n",
              "    }\n",
              "\n",
              "    .dataframe tbody tr th {\n",
              "        vertical-align: top;\n",
              "    }\n",
              "\n",
              "    .dataframe thead th {\n",
              "        text-align: right;\n",
              "    }\n",
              "</style>\n",
              "<table border=\"1\" class=\"dataframe\">\n",
              "  <thead>\n",
              "    <tr style=\"text-align: right;\">\n",
              "      <th></th>\n",
              "      <th>limite_inferior_ip</th>\n",
              "      <th>limite_superior_ip</th>\n",
              "      <th>pais</th>\n",
              "    </tr>\n",
              "  </thead>\n",
              "  <tbody>\n",
              "    <tr>\n",
              "      <th>0</th>\n",
              "      <td>16777216.0</td>\n",
              "      <td>16777471</td>\n",
              "      <td>Australia</td>\n",
              "    </tr>\n",
              "    <tr>\n",
              "      <th>1</th>\n",
              "      <td>16777472.0</td>\n",
              "      <td>16777727</td>\n",
              "      <td>China</td>\n",
              "    </tr>\n",
              "    <tr>\n",
              "      <th>2</th>\n",
              "      <td>16777728.0</td>\n",
              "      <td>16778239</td>\n",
              "      <td>China</td>\n",
              "    </tr>\n",
              "    <tr>\n",
              "      <th>3</th>\n",
              "      <td>16778240.0</td>\n",
              "      <td>16779263</td>\n",
              "      <td>Australia</td>\n",
              "    </tr>\n",
              "    <tr>\n",
              "      <th>4</th>\n",
              "      <td>16779264.0</td>\n",
              "      <td>16781311</td>\n",
              "      <td>China</td>\n",
              "    </tr>\n",
              "  </tbody>\n",
              "</table>\n",
              "</div>"
            ],
            "text/plain": [
              "   limite_inferior_ip  limite_superior_ip       pais\n",
              "0          16777216.0            16777471  Australia\n",
              "1          16777472.0            16777727      China\n",
              "2          16777728.0            16778239      China\n",
              "3          16778240.0            16779263  Australia\n",
              "4          16779264.0            16781311      China"
            ]
          },
          "metadata": {
            "tags": []
          },
          "execution_count": 93
        }
      ]
    },
    {
      "cell_type": "code",
      "metadata": {
        "id": "VK7Rd4SkDHVY",
        "colab_type": "code",
        "outputId": "1b6b8755-3a6f-41e6-dce8-de3c6e4fa9e4",
        "colab": {
          "base_uri": "https://localhost:8080/",
          "height": 51
        }
      },
      "source": [
        "print('Fraude - DF: Linhas {} e Colunas {}'.format(fraude_df.shape[0], fraude_df.shape[1]))\n",
        "print('ISP - DF: Linhas {} e Colunas {}'.format(ISP_df.shape[0], ISP_df.shape[1]))"
      ],
      "execution_count": 94,
      "outputs": [
        {
          "output_type": "stream",
          "text": [
            "Fraude - DF: Linhas 151112 e Colunas 11\n",
            "ISP - DF: Linhas 138846 e Colunas 3\n"
          ],
          "name": "stdout"
        }
      ]
    },
    {
      "cell_type": "markdown",
      "metadata": {
        "id": "0ESzxNNc-oYG",
        "colab_type": "text"
      },
      "source": [
        "# **Tratamento dos Dados**"
      ]
    },
    {
      "cell_type": "code",
      "metadata": {
        "id": "rcIA2Iig9o8I",
        "colab_type": "code",
        "outputId": "20eec3e2-b718-47c2-afbd-304433d9fd17",
        "colab": {
          "base_uri": "https://localhost:8080/",
          "height": 221
        }
      },
      "source": [
        "fraude_df.dtypes"
      ],
      "execution_count": 95,
      "outputs": [
        {
          "output_type": "execute_result",
          "data": {
            "text/plain": [
              "id                  int64\n",
              "cadastro           object\n",
              "compra             object\n",
              "valor               int64\n",
              "id_dispositivo     object\n",
              "fonte              object\n",
              "browser            object\n",
              "genero             object\n",
              "idade               int64\n",
              "ip                float64\n",
              "fraude              int64\n",
              "dtype: object"
            ]
          },
          "metadata": {
            "tags": []
          },
          "execution_count": 95
        }
      ]
    },
    {
      "cell_type": "code",
      "metadata": {
        "id": "a2OL0zXU9rI4",
        "colab_type": "code",
        "outputId": "e830a74a-46bf-48e5-f4ad-797530b79766",
        "colab": {
          "base_uri": "https://localhost:8080/",
          "height": 238
        }
      },
      "source": [
        "print('Verificando Valores Nulos - Fraude DF')\n",
        "fraude_df.isnull().sum()"
      ],
      "execution_count": 96,
      "outputs": [
        {
          "output_type": "stream",
          "text": [
            "Verificando Valores Nulos - Fraude DF\n"
          ],
          "name": "stdout"
        },
        {
          "output_type": "execute_result",
          "data": {
            "text/plain": [
              "id                0\n",
              "cadastro          0\n",
              "compra            0\n",
              "valor             0\n",
              "id_dispositivo    0\n",
              "fonte             0\n",
              "browser           0\n",
              "genero            0\n",
              "idade             0\n",
              "ip                0\n",
              "fraude            0\n",
              "dtype: int64"
            ]
          },
          "metadata": {
            "tags": []
          },
          "execution_count": 96
        }
      ]
    },
    {
      "cell_type": "code",
      "metadata": {
        "id": "1TokvA-n9tbg",
        "colab_type": "code",
        "outputId": "b1173bd3-7148-4ba1-c28d-e24f72affa08",
        "colab": {
          "base_uri": "https://localhost:8080/",
          "height": 102
        }
      },
      "source": [
        "print('Verificando Valores Nulos - ISP DF')\n",
        "ISP_df.isnull().sum()"
      ],
      "execution_count": 97,
      "outputs": [
        {
          "output_type": "stream",
          "text": [
            "Verificando Valores Nulos - ISP DF\n"
          ],
          "name": "stdout"
        },
        {
          "output_type": "execute_result",
          "data": {
            "text/plain": [
              "limite_inferior_ip    0\n",
              "limite_superior_ip    0\n",
              "pais                  0\n",
              "dtype: int64"
            ]
          },
          "metadata": {
            "tags": []
          },
          "execution_count": 97
        }
      ]
    },
    {
      "cell_type": "code",
      "metadata": {
        "id": "nRkHNqgs99P_",
        "colab_type": "code",
        "colab": {}
      },
      "source": [
        "def isp_counts(isp):\n",
        "    pais = ISP_df[(ISP_df.limite_inferior_ip <= isp) & (ISP_df.limite_superior_ip >= isp)].pais\n",
        "    if pais.shape[0] == 1:\n",
        "        return 'Único'\n",
        "    elif pais.shape[0] > 1:\n",
        "        return 'Vários países'\n",
        "    elif pais.shape[0] == 0:\n",
        "        if isp > ISP_df.limite_superior_ip.max():\n",
        "            return 'Muito grande'\n",
        "        elif isp < ISP_df.limite_inferior_ip.min():\n",
        "            return 'Muito pequeno'\n",
        "        else:\n",
        "            return 'Faltando'\n",
        "\n",
        "def ip_para_pais(ip):\n",
        "    tmp = ISP_df[(ISP_df.limite_inferior_ip <= ip)\n",
        "                & (ISP_df.limite_superior_ip >= ip)].pais\n",
        "    if tmp.shape[0] == 1:\n",
        "        return tmp.iloc[0]\n",
        "    elif tmp.shape[0] < 1:\n",
        "        return 'Faltando'\n",
        "    elif tmp.shape[0] > 1:\n",
        "        return 'Erro'"
      ],
      "execution_count": 0,
      "outputs": []
    },
    {
      "cell_type": "code",
      "metadata": {
        "id": "RZLsIqRd9-kB",
        "colab_type": "code",
        "colab": {}
      },
      "source": [
        "ip_counts = fraude_df['ip'].apply(isp_counts)\n",
        "fraude_df['pais'] = fraude_df['ip'].apply(ip_para_pais)\n",
        "ISP_df['limite_inferior_ip'] = ISP_df['limite_inferior_ip'].astype(int)"
      ],
      "execution_count": 0,
      "outputs": []
    },
    {
      "cell_type": "markdown",
      "metadata": {
        "id": "EGVsgXyxA0vk",
        "colab_type": "text"
      },
      "source": [
        "# **Análise de Dados**"
      ]
    },
    {
      "cell_type": "code",
      "metadata": {
        "id": "06t4r81zBOyx",
        "colab_type": "code",
        "outputId": "28109aa0-0a0b-48a1-cabf-58f742441335",
        "colab": {
          "base_uri": "https://localhost:8080/",
          "height": 297
        }
      },
      "source": [
        "fraude_df.describe()"
      ],
      "execution_count": 100,
      "outputs": [
        {
          "output_type": "execute_result",
          "data": {
            "text/html": [
              "<div>\n",
              "<style scoped>\n",
              "    .dataframe tbody tr th:only-of-type {\n",
              "        vertical-align: middle;\n",
              "    }\n",
              "\n",
              "    .dataframe tbody tr th {\n",
              "        vertical-align: top;\n",
              "    }\n",
              "\n",
              "    .dataframe thead th {\n",
              "        text-align: right;\n",
              "    }\n",
              "</style>\n",
              "<table border=\"1\" class=\"dataframe\">\n",
              "  <thead>\n",
              "    <tr style=\"text-align: right;\">\n",
              "      <th></th>\n",
              "      <th>id</th>\n",
              "      <th>valor</th>\n",
              "      <th>idade</th>\n",
              "      <th>ip</th>\n",
              "      <th>fraude</th>\n",
              "    </tr>\n",
              "  </thead>\n",
              "  <tbody>\n",
              "    <tr>\n",
              "      <th>count</th>\n",
              "      <td>151112.000000</td>\n",
              "      <td>151112.000000</td>\n",
              "      <td>151112.000000</td>\n",
              "      <td>1.511120e+05</td>\n",
              "      <td>151112.000000</td>\n",
              "    </tr>\n",
              "    <tr>\n",
              "      <th>mean</th>\n",
              "      <td>200171.040970</td>\n",
              "      <td>36.935372</td>\n",
              "      <td>33.140704</td>\n",
              "      <td>2.152145e+09</td>\n",
              "      <td>0.093646</td>\n",
              "    </tr>\n",
              "    <tr>\n",
              "      <th>std</th>\n",
              "      <td>115369.285024</td>\n",
              "      <td>18.322762</td>\n",
              "      <td>8.617733</td>\n",
              "      <td>1.248497e+09</td>\n",
              "      <td>0.291336</td>\n",
              "    </tr>\n",
              "    <tr>\n",
              "      <th>min</th>\n",
              "      <td>2.000000</td>\n",
              "      <td>9.000000</td>\n",
              "      <td>18.000000</td>\n",
              "      <td>5.209350e+04</td>\n",
              "      <td>0.000000</td>\n",
              "    </tr>\n",
              "    <tr>\n",
              "      <th>25%</th>\n",
              "      <td>100642.500000</td>\n",
              "      <td>22.000000</td>\n",
              "      <td>27.000000</td>\n",
              "      <td>1.085934e+09</td>\n",
              "      <td>0.000000</td>\n",
              "    </tr>\n",
              "    <tr>\n",
              "      <th>50%</th>\n",
              "      <td>199958.000000</td>\n",
              "      <td>35.000000</td>\n",
              "      <td>33.000000</td>\n",
              "      <td>2.154770e+09</td>\n",
              "      <td>0.000000</td>\n",
              "    </tr>\n",
              "    <tr>\n",
              "      <th>75%</th>\n",
              "      <td>300054.000000</td>\n",
              "      <td>49.000000</td>\n",
              "      <td>39.000000</td>\n",
              "      <td>3.243258e+09</td>\n",
              "      <td>0.000000</td>\n",
              "    </tr>\n",
              "    <tr>\n",
              "      <th>max</th>\n",
              "      <td>400000.000000</td>\n",
              "      <td>154.000000</td>\n",
              "      <td>76.000000</td>\n",
              "      <td>4.294850e+09</td>\n",
              "      <td>1.000000</td>\n",
              "    </tr>\n",
              "  </tbody>\n",
              "</table>\n",
              "</div>"
            ],
            "text/plain": [
              "                  id          valor          idade            ip         fraude\n",
              "count  151112.000000  151112.000000  151112.000000  1.511120e+05  151112.000000\n",
              "mean   200171.040970      36.935372      33.140704  2.152145e+09       0.093646\n",
              "std    115369.285024      18.322762       8.617733  1.248497e+09       0.291336\n",
              "min         2.000000       9.000000      18.000000  5.209350e+04       0.000000\n",
              "25%    100642.500000      22.000000      27.000000  1.085934e+09       0.000000\n",
              "50%    199958.000000      35.000000      33.000000  2.154770e+09       0.000000\n",
              "75%    300054.000000      49.000000      39.000000  3.243258e+09       0.000000\n",
              "max    400000.000000     154.000000      76.000000  4.294850e+09       1.000000"
            ]
          },
          "metadata": {
            "tags": []
          },
          "execution_count": 100
        }
      ]
    },
    {
      "cell_type": "code",
      "metadata": {
        "id": "dxg9euCkBTDQ",
        "colab_type": "code",
        "outputId": "7bbea2c0-ad0f-4e25-9e01-4df3a4c4a627",
        "colab": {
          "base_uri": "https://localhost:8080/",
          "height": 297
        }
      },
      "source": [
        "ISP_df.describe()"
      ],
      "execution_count": 101,
      "outputs": [
        {
          "output_type": "execute_result",
          "data": {
            "text/html": [
              "<div>\n",
              "<style scoped>\n",
              "    .dataframe tbody tr th:only-of-type {\n",
              "        vertical-align: middle;\n",
              "    }\n",
              "\n",
              "    .dataframe tbody tr th {\n",
              "        vertical-align: top;\n",
              "    }\n",
              "\n",
              "    .dataframe thead th {\n",
              "        text-align: right;\n",
              "    }\n",
              "</style>\n",
              "<table border=\"1\" class=\"dataframe\">\n",
              "  <thead>\n",
              "    <tr style=\"text-align: right;\">\n",
              "      <th></th>\n",
              "      <th>limite_inferior_ip</th>\n",
              "      <th>limite_superior_ip</th>\n",
              "    </tr>\n",
              "  </thead>\n",
              "  <tbody>\n",
              "    <tr>\n",
              "      <th>count</th>\n",
              "      <td>1.388460e+05</td>\n",
              "      <td>1.388460e+05</td>\n",
              "    </tr>\n",
              "    <tr>\n",
              "      <th>mean</th>\n",
              "      <td>2.724532e+09</td>\n",
              "      <td>2.724557e+09</td>\n",
              "    </tr>\n",
              "    <tr>\n",
              "      <th>std</th>\n",
              "      <td>8.975215e+08</td>\n",
              "      <td>8.974979e+08</td>\n",
              "    </tr>\n",
              "    <tr>\n",
              "      <th>min</th>\n",
              "      <td>1.677722e+07</td>\n",
              "      <td>1.677747e+07</td>\n",
              "    </tr>\n",
              "    <tr>\n",
              "      <th>25%</th>\n",
              "      <td>1.919930e+09</td>\n",
              "      <td>1.920008e+09</td>\n",
              "    </tr>\n",
              "    <tr>\n",
              "      <th>50%</th>\n",
              "      <td>3.230887e+09</td>\n",
              "      <td>3.230888e+09</td>\n",
              "    </tr>\n",
              "    <tr>\n",
              "      <th>75%</th>\n",
              "      <td>3.350465e+09</td>\n",
              "      <td>3.350466e+09</td>\n",
              "    </tr>\n",
              "    <tr>\n",
              "      <th>max</th>\n",
              "      <td>3.758096e+09</td>\n",
              "      <td>3.758096e+09</td>\n",
              "    </tr>\n",
              "  </tbody>\n",
              "</table>\n",
              "</div>"
            ],
            "text/plain": [
              "       limite_inferior_ip  limite_superior_ip\n",
              "count        1.388460e+05        1.388460e+05\n",
              "mean         2.724532e+09        2.724557e+09\n",
              "std          8.975215e+08        8.974979e+08\n",
              "min          1.677722e+07        1.677747e+07\n",
              "25%          1.919930e+09        1.920008e+09\n",
              "50%          3.230887e+09        3.230888e+09\n",
              "75%          3.350465e+09        3.350466e+09\n",
              "max          3.758096e+09        3.758096e+09"
            ]
          },
          "metadata": {
            "tags": []
          },
          "execution_count": 101
        }
      ]
    },
    {
      "cell_type": "code",
      "metadata": {
        "id": "pHwI2g7LDzsU",
        "colab_type": "code",
        "outputId": "47f650d0-5b08-49b9-9c34-9339628201ac",
        "colab": {
          "base_uri": "https://localhost:8080/",
          "height": 314
        }
      },
      "source": [
        "ax = sns.countplot(x='genero', hue='fraude', data=fraude_df, palette='viridis')\n",
        "ax.figure.set_size_inches(10, 4)\n",
        "ax.set_title('Quantidade de Fraude por Gênero', fontsize=14)\n",
        "ax.set(xlabel='Gênero', ylabel='Quantidade')"
      ],
      "execution_count": 102,
      "outputs": [
        {
          "output_type": "execute_result",
          "data": {
            "text/plain": [
              "[Text(0, 0.5, 'Quantidade'), Text(0.5, 0, 'Gênero')]"
            ]
          },
          "metadata": {
            "tags": []
          },
          "execution_count": 102
        },
        {
          "output_type": "display_data",
          "data": {
            "image/png": "[encoded data removed]",
            "text/plain": [
              "<Figure size 720x288 with 1 Axes>"
            ]
          },
          "metadata": {
            "tags": []
          }
        }
      ]
    },
    {
      "cell_type": "markdown",
      "metadata": {
        "id": "tKCc-O0teO3_",
        "colab_type": "text"
      },
      "source": [
        "**Podemos ver que, ambos gêneros possuem fraudes, mas podemos destacar que o gênero masculino possui mais fraudes do que o feminino.**"
      ]
    },
    {
      "cell_type": "code",
      "metadata": {
        "id": "aHr1ZV83D28i",
        "colab_type": "code",
        "outputId": "0f1e1972-1fe2-433e-c2f2-1d9f8e3b7985",
        "colab": {
          "base_uri": "https://localhost:8080/",
          "height": 379
        }
      },
      "source": [
        "ax = sns.factorplot(x='fraude', y='valor', data = fraude_df, palette='viridis')\n",
        "ax.fig.set_size_inches(8, 4)\n",
        "ax.set(xlabel='0 = Não Fraude / 1 = Fraude', ylabel='Média')"
      ],
      "execution_count": 103,
      "outputs": [
        {
          "output_type": "stream",
          "text": [
            "/usr/local/lib/python3.6/dist-packages/seaborn/categorical.py:3672: UserWarning: The `factorplot` function has been renamed to `catplot`. The original name will be removed in a future release. Please update your code. Note that the default `kind` in `factorplot` (`'point'`) has changed `'strip'` in `catplot`.\n",
            "  warnings.warn(msg)\n"
          ],
          "name": "stderr"
        },
        {
          "output_type": "execute_result",
          "data": {
            "text/plain": [
              "<seaborn.axisgrid.FacetGrid at 0x7ffb9ff61470>"
            ]
          },
          "metadata": {
            "tags": []
          },
          "execution_count": 103
        },
        {
          "output_type": "display_data",
          "data": {
            "image/png": "[encoded data removed]",
            "text/plain": [
              "<Figure size 576x288 with 1 Axes>"
            ]
          },
          "metadata": {
            "tags": []
          }
        }
      ]
    },
    {
      "cell_type": "code",
      "metadata": {
        "id": "jg_8K6kVD6Ex",
        "colab_type": "code",
        "outputId": "a5f757d1-22c1-4e1f-b030-6c18dda79355",
        "colab": {
          "base_uri": "https://localhost:8080/",
          "height": 379
        }
      },
      "source": [
        "ax = sns.factorplot(x='fraude', y='idade', data = fraude_df, palette='viridis')\n",
        "ax.fig.set_size_inches(8, 4)\n",
        "ax.set(xlabel='0 = Não Fraude / 1 = Fraude', ylabel='Média de Idade')"
      ],
      "execution_count": 104,
      "outputs": [
        {
          "output_type": "stream",
          "text": [
            "/usr/local/lib/python3.6/dist-packages/seaborn/categorical.py:3672: UserWarning: The `factorplot` function has been renamed to `catplot`. The original name will be removed in a future release. Please update your code. Note that the default `kind` in `factorplot` (`'point'`) has changed `'strip'` in `catplot`.\n",
            "  warnings.warn(msg)\n"
          ],
          "name": "stderr"
        },
        {
          "output_type": "execute_result",
          "data": {
            "text/plain": [
              "<seaborn.axisgrid.FacetGrid at 0x7ffb9f07b320>"
            ]
          },
          "metadata": {
            "tags": []
          },
          "execution_count": 104
        },
        {
          "output_type": "display_data",
          "data": {
            "image/png": "[encoded data removed]",
            "text/plain": [
              "<Figure size 576x288 with 1 Axes>"
            ]
          },
          "metadata": {
            "tags": []
          }
        }
      ]
    },
    {
      "cell_type": "code",
      "metadata": {
        "id": "qsnXLOMzD595",
        "colab_type": "code",
        "outputId": "f6457c90-77e2-43cb-8b13-c8ce7b065c39",
        "colab": {
          "base_uri": "https://localhost:8080/",
          "height": 313
        }
      },
      "source": [
        "ax = sns.countplot(x='fonte', hue='fraude', data=fraude_df, palette='viridis')\n",
        "ax.figure.set_size_inches(10, 4)\n",
        "ax.set_title('Quantidade de Fraude por Origem', fontsize=14)\n",
        "ax.set(xlabel='Fonte', ylabel='Quantidade')"
      ],
      "execution_count": 105,
      "outputs": [
        {
          "output_type": "execute_result",
          "data": {
            "text/plain": [
              "[Text(0, 0.5, 'Quantidade'), Text(0.5, 0, 'Fonte')]"
            ]
          },
          "metadata": {
            "tags": []
          },
          "execution_count": 105
        },
        {
          "output_type": "display_data",
          "data": {
            "image/png": "[encoded data removed]",
            "text/plain": [
              "<Figure size 720x288 with 1 Axes>"
            ]
          },
          "metadata": {
            "tags": []
          }
        }
      ]
    },
    {
      "cell_type": "code",
      "metadata": {
        "id": "ubUTdaCFEBns",
        "colab_type": "code",
        "colab": {}
      },
      "source": [
        "tmp_df = pd.DataFrame(columns=('fraude', 'id_por_dispositivo', 'id_por_ip'))\n",
        "tmp_df['fraude'] = fraude_df['fraude']\n",
        "\n",
        "userid_count = fraude_df.groupby('id_dispositivo').id.count()\n",
        "tmp_df['id_por_dispositivo'] = fraude_df.id_dispositivo.apply(lambda x: userid_count[x])\n",
        "fraude_df['id_por_dispositivo'] = fraude_df.id_dispositivo.apply(lambda x: userid_count[x])\n",
        "\n",
        "userid_count2 = fraude_df.groupby('ip').id.count()\n",
        "tmp_df['id_por_ip'] = fraude_df.ip.apply(lambda x: userid_count2[x])\n",
        "fraude_df['id_por_ip'] = fraude_df.ip.apply(lambda x: userid_count2[x])"
      ],
      "execution_count": 0,
      "outputs": []
    },
    {
      "cell_type": "code",
      "metadata": {
        "id": "mnWFlBcdECoo",
        "colab_type": "code",
        "outputId": "6817b1b3-db58-40d2-87a5-cc23c3ec9071",
        "colab": {
          "base_uri": "https://localhost:8080/",
          "height": 670
        }
      },
      "source": [
        "ax = sns.factorplot(x='fraude', y='id_por_dispositivo', data=tmp_df, palette='viridis')\n",
        "ax.fig.set_size_inches(8, 4)\n",
        "ax.set(xlabel='Não fraude (0) / Fraude (1)', ylabel='ID de usuário por dispositivo')\n",
        "\n",
        "ax = sns.factorplot(x='fraude', y='id_por_ip', data=tmp_df, palette='viridis')\n",
        "ax.fig.set_size_inches(8, 4)\n",
        "ax.set(xlabel='Não fraude (0) / Fraude (1)', ylabel='ID de usuário')"
      ],
      "execution_count": 107,
      "outputs": [
        {
          "output_type": "stream",
          "text": [
            "/usr/local/lib/python3.6/dist-packages/seaborn/categorical.py:3672: UserWarning: The `factorplot` function has been renamed to `catplot`. The original name will be removed in a future release. Please update your code. Note that the default `kind` in `factorplot` (`'point'`) has changed `'strip'` in `catplot`.\n",
            "  warnings.warn(msg)\n"
          ],
          "name": "stderr"
        },
        {
          "output_type": "execute_result",
          "data": {
            "text/plain": [
              "<seaborn.axisgrid.FacetGrid at 0x7ffb96e4c358>"
            ]
          },
          "metadata": {
            "tags": []
          },
          "execution_count": 107
        },
        {
          "output_type": "display_data",
          "data": {
            "image/png": "[encoded data removed]",
            "text/plain": [
              "<Figure size 576x288 with 1 Axes>"
            ]
          },
          "metadata": {
            "tags": []
          }
        },
        {
          "output_type": "display_data",
          "data": {
            "image/png": "[encoded data removed]",
            "text/plain": [
              "<Figure size 576x288 with 1 Axes>"
            ]
          },
          "metadata": {
            "tags": []
          }
        }
      ]
    },
    {
      "cell_type": "code",
      "metadata": {
        "id": "q3x-Hf3YEEAR",
        "colab_type": "code",
        "colab": {}
      },
      "source": [
        "tmp_df['cadastro'] = fraude_df.cadastro.apply(pd.to_datetime)\n",
        "tmp_df['compra'] = fraude_df.compra.apply(pd.to_datetime)\n",
        "tmp_df['tempo'] = (tmp_df.compra - tmp_df.cadastro).apply(lambda x: x.seconds)\n",
        "\n",
        "fraude_df['cadastro'] = fraude_df.cadastro.apply(pd.to_datetime)\n",
        "fraude_df['compra'] = fraude_df.compra.apply(pd.to_datetime)\n",
        "fraude_df['tempo'] = (tmp_df.compra - tmp_df.cadastro).apply(lambda x: x.seconds)"
      ],
      "execution_count": 0,
      "outputs": []
    },
    {
      "cell_type": "code",
      "metadata": {
        "id": "xYzTpr7lEFLo",
        "colab_type": "code",
        "outputId": "f15055b6-7e2e-412c-e3af-3e325ddaedd7",
        "colab": {
          "base_uri": "https://localhost:8080/",
          "height": 379
        }
      },
      "source": [
        "ax = sns.factorplot(x='fraude', y='tempo', data=tmp_df, palette='viridis')\n",
        "ax.fig.set_size_inches(8, 4)\n",
        "ax.set(xlabel='Não fraude (0) / Fraude (1)', ylabel='Tempo entre início e compra (segundos)')"
      ],
      "execution_count": 116,
      "outputs": [
        {
          "output_type": "stream",
          "text": [
            "/usr/local/lib/python3.6/dist-packages/seaborn/categorical.py:3672: UserWarning: The `factorplot` function has been renamed to `catplot`. The original name will be removed in a future release. Please update your code. Note that the default `kind` in `factorplot` (`'point'`) has changed `'strip'` in `catplot`.\n",
            "  warnings.warn(msg)\n"
          ],
          "name": "stderr"
        },
        {
          "output_type": "execute_result",
          "data": {
            "text/plain": [
              "<seaborn.axisgrid.FacetGrid at 0x7ffb958f4438>"
            ]
          },
          "metadata": {
            "tags": []
          },
          "execution_count": 116
        },
        {
          "output_type": "display_data",
          "data": {
            "image/png": "[encoded data removed]",
            "text/plain": [
              "<Figure size 576x288 with 1 Axes>"
            ]
          },
          "metadata": {
            "tags": []
          }
        }
      ]
    },
    {
      "cell_type": "code",
      "metadata": {
        "id": "6r8Yasw-EGph",
        "colab_type": "code",
        "outputId": "04f225e3-36fd-420b-f9a8-4e476f2f92a4",
        "colab": {
          "base_uri": "https://localhost:8080/",
          "height": 313
        }
      },
      "source": [
        "ax = sns.distplot(tmp_df[tmp_df['fraude'] == 1].cadastro.apply(lambda x: x.hour), kde=False)\n",
        "ax.figure.set_size_inches(10, 4)\n",
        "ax.set_title('Distribuição de Fraude por Hora do Dia', fontsize=14)\n",
        "ax.set(xlabel='Hora do Dia', ylabel='Contagem')"
      ],
      "execution_count": 117,
      "outputs": [
        {
          "output_type": "execute_result",
          "data": {
            "text/plain": [
              "[Text(0, 0.5, 'Contagem'), Text(0.5, 0, 'Hora do Dia')]"
            ]
          },
          "metadata": {
            "tags": []
          },
          "execution_count": 117
        },
        {
          "output_type": "display_data",
          "data": {
            "image/png": "[encoded data removed]",
            "text/plain": [
              "<Figure size 720x288 with 1 Axes>"
            ]
          },
          "metadata": {
            "tags": []
          }
        }
      ]
    },
    {
      "cell_type": "code",
      "metadata": {
        "id": "QfA7aDtaEH5S",
        "colab_type": "code",
        "outputId": "d69a0c31-1dd4-4aa0-f9a9-66c995a4e664",
        "colab": {
          "base_uri": "https://localhost:8080/",
          "height": 313
        }
      },
      "source": [
        "ax = sns.distplot(tmp_df[tmp_df['fraude'] == 1].cadastro.apply(lambda x: x.dayofweek), kde=False)\n",
        "ax.figure.set_size_inches(10, 4)\n",
        "ax.set_title('Distribuição de Fraude por Dia da Semana', fontsize=14)\n",
        "ax.set(xlabel='Dia da Semana', ylabel='Contagem')"
      ],
      "execution_count": 118,
      "outputs": [
        {
          "output_type": "execute_result",
          "data": {
            "text/plain": [
              "[Text(0, 0.5, 'Contagem'), Text(0.5, 0, 'Dia da Semana')]"
            ]
          },
          "metadata": {
            "tags": []
          },
          "execution_count": 118
        },
        {
          "output_type": "display_data",
          "data": {
            "image/png": "[encoded data removed]",
            "text/plain": [
              "<Figure size 720x288 with 1 Axes>"
            ]
          },
          "metadata": {
            "tags": []
          }
        }
      ]
    },
    {
      "cell_type": "code",
      "metadata": {
        "id": "HCnA_aRSEJFq",
        "colab_type": "code",
        "outputId": "c2d9a703-f508-4238-ddc2-5a0244164c7b",
        "colab": {
          "base_uri": "https://localhost:8080/",
          "height": 313
        }
      },
      "source": [
        "ax = sns.distplot(tmp_df[tmp_df['fraude'] == 1].cadastro.apply(lambda x: x.week), kde=False)\n",
        "ax.figure.set_size_inches(10, 4)\n",
        "ax.set_title('Distribuição de Fraude por Semana do ano', fontsize=14)\n",
        "ax.set(xlabel='Semana do ano', ylabel='Contagem')"
      ],
      "execution_count": 119,
      "outputs": [
        {
          "output_type": "execute_result",
          "data": {
            "text/plain": [
              "[Text(0, 0.5, 'Contagem'), Text(0.5, 0, 'Semana do ano')]"
            ]
          },
          "metadata": {
            "tags": []
          },
          "execution_count": 119
        },
        {
          "output_type": "display_data",
          "data": {
            "image/png": "[encoded data removed]",
            "text/plain": [
              "<Figure size 720x288 with 1 Axes>"
            ]
          },
          "metadata": {
            "tags": []
          }
        }
      ]
    },
    {
      "cell_type": "code",
      "metadata": {
        "id": "zNUxBa5ILQJc",
        "colab_type": "code",
        "colab": {
          "base_uri": "https://localhost:8080/",
          "height": 474
        },
        "outputId": "d6254bdc-89f2-44e6-d58b-02d6bd4b1e66"
      },
      "source": [
        "pais_dummies = pd.get_dummies(fraude_df.pais, prefix='pais')\n",
        "fraude_df = pd.concat([fraude_df, pais_dummies], axis=1)\n",
        "fraude_df.head()"
      ],
      "execution_count": 120,
      "outputs": [
        {
          "output_type": "execute_result",
          "data": {
            "text/html": [
              "<div>\n",
              "<style scoped>\n",
              "    .dataframe tbody tr th:only-of-type {\n",
              "        vertical-align: middle;\n",
              "    }\n",
              "\n",
              "    .dataframe tbody tr th {\n",
              "        vertical-align: top;\n",
              "    }\n",
              "\n",
              "    .dataframe thead th {\n",
              "        text-align: right;\n",
              "    }\n",
              "</style>\n",
              "<table border=\"1\" class=\"dataframe\">\n",
              "  <thead>\n",
              "    <tr style=\"text-align: right;\">\n",
              "      <th></th>\n",
              "      <th>id</th>\n",
              "      <th>cadastro</th>\n",
              "      <th>compra</th>\n",
              "      <th>valor</th>\n",
              "      <th>id_dispositivo</th>\n",
              "      <th>fonte</th>\n",
              "      <th>browser</th>\n",
              "      <th>genero</th>\n",
              "      <th>idade</th>\n",
              "      <th>ip</th>\n",
              "      <th>fraude</th>\n",
              "      <th>pais</th>\n",
              "      <th>pais_Afghanistan</th>\n",
              "      <th>pais_Albania</th>\n",
              "      <th>pais_Algeria</th>\n",
              "      <th>pais_Angola</th>\n",
              "      <th>pais_Antigua and Barbuda</th>\n",
              "      <th>pais_Argentina</th>\n",
              "      <th>pais_Armenia</th>\n",
              "      <th>pais_Australia</th>\n",
              "      <th>pais_Austria</th>\n",
              "      <th>pais_Azerbaijan</th>\n",
              "      <th>pais_Bahamas</th>\n",
              "      <th>pais_Bahrain</th>\n",
              "      <th>pais_Bangladesh</th>\n",
              "      <th>pais_Barbados</th>\n",
              "      <th>pais_Belarus</th>\n",
              "      <th>pais_Belgium</th>\n",
              "      <th>pais_Belize</th>\n",
              "      <th>pais_Benin</th>\n",
              "      <th>pais_Bermuda</th>\n",
              "      <th>pais_Bhutan</th>\n",
              "      <th>pais_Bolivia</th>\n",
              "      <th>pais_Bonaire; Sint Eustatius; Saba</th>\n",
              "      <th>pais_Bosnia and Herzegowina</th>\n",
              "      <th>pais_Botswana</th>\n",
              "      <th>pais_Brazil</th>\n",
              "      <th>pais_British Indian Ocean Territory</th>\n",
              "      <th>pais_Brunei Darussalam</th>\n",
              "      <th>pais_Bulgaria</th>\n",
              "      <th>...</th>\n",
              "      <th>pais_Saint Kitts and Nevis</th>\n",
              "      <th>pais_Saint Martin</th>\n",
              "      <th>pais_San Marino</th>\n",
              "      <th>pais_Saudi Arabia</th>\n",
              "      <th>pais_Senegal</th>\n",
              "      <th>pais_Serbia</th>\n",
              "      <th>pais_Seychelles</th>\n",
              "      <th>pais_Singapore</th>\n",
              "      <th>pais_Slovakia (SLOVAK Republic)</th>\n",
              "      <th>pais_Slovenia</th>\n",
              "      <th>pais_South Africa</th>\n",
              "      <th>pais_South Sudan</th>\n",
              "      <th>pais_Spain</th>\n",
              "      <th>pais_Sri Lanka</th>\n",
              "      <th>pais_Sudan</th>\n",
              "      <th>pais_Sweden</th>\n",
              "      <th>pais_Switzerland</th>\n",
              "      <th>pais_Syrian Arab Republic</th>\n",
              "      <th>pais_Taiwan; Republic of China (ROC)</th>\n",
              "      <th>pais_Tajikistan</th>\n",
              "      <th>pais_Tanzania United Republic of</th>\n",
              "      <th>pais_Thailand</th>\n",
              "      <th>pais_Trinidad and Tobago</th>\n",
              "      <th>pais_Tunisia</th>\n",
              "      <th>pais_Turkey</th>\n",
              "      <th>pais_Turkmenistan</th>\n",
              "      <th>pais_Uganda</th>\n",
              "      <th>pais_Ukraine</th>\n",
              "      <th>pais_United Arab Emirates</th>\n",
              "      <th>pais_United Kingdom</th>\n",
              "      <th>pais_United States</th>\n",
              "      <th>pais_Uruguay</th>\n",
              "      <th>pais_Uzbekistan</th>\n",
              "      <th>pais_Vanuatu</th>\n",
              "      <th>pais_Venezuela</th>\n",
              "      <th>pais_Viet Nam</th>\n",
              "      <th>pais_Virgin Islands (U.S.)</th>\n",
              "      <th>pais_Yemen</th>\n",
              "      <th>pais_Zambia</th>\n",
              "      <th>pais_Zimbabwe</th>\n",
              "    </tr>\n",
              "  </thead>\n",
              "  <tbody>\n",
              "    <tr>\n",
              "      <th>0</th>\n",
              "      <td>22058</td>\n",
              "      <td>2015-02-24 22:55:49</td>\n",
              "      <td>2015-04-18 02:47:11</td>\n",
              "      <td>34</td>\n",
              "      <td>QVPSPJUOCKZAR</td>\n",
              "      <td>SEO</td>\n",
              "      <td>Chrome</td>\n",
              "      <td>M</td>\n",
              "      <td>39</td>\n",
              "      <td>7.327584e+08</td>\n",
              "      <td>0</td>\n",
              "      <td>Japan</td>\n",
              "      <td>0</td>\n",
              "      <td>0</td>\n",
              "      <td>0</td>\n",
              "      <td>0</td>\n",
              "      <td>0</td>\n",
              "      <td>0</td>\n",
              "      <td>0</td>\n",
              "      <td>0</td>\n",
              "      <td>0</td>\n",
              "      <td>0</td>\n",
              "      <td>0</td>\n",
              "      <td>0</td>\n",
              "      <td>0</td>\n",
              "      <td>0</td>\n",
              "      <td>0</td>\n",
              "      <td>0</td>\n",
              "      <td>0</td>\n",
              "      <td>0</td>\n",
              "      <td>0</td>\n",
              "      <td>0</td>\n",
              "      <td>0</td>\n",
              "      <td>0</td>\n",
              "      <td>0</td>\n",
              "      <td>0</td>\n",
              "      <td>0</td>\n",
              "      <td>0</td>\n",
              "      <td>0</td>\n",
              "      <td>0</td>\n",
              "      <td>...</td>\n",
              "      <td>0</td>\n",
              "      <td>0</td>\n",
              "      <td>0</td>\n",
              "      <td>0</td>\n",
              "      <td>0</td>\n",
              "      <td>0</td>\n",
              "      <td>0</td>\n",
              "      <td>0</td>\n",
              "      <td>0</td>\n",
              "      <td>0</td>\n",
              "      <td>0</td>\n",
              "      <td>0</td>\n",
              "      <td>0</td>\n",
              "      <td>0</td>\n",
              "      <td>0</td>\n",
              "      <td>0</td>\n",
              "      <td>0</td>\n",
              "      <td>0</td>\n",
              "      <td>0</td>\n",
              "      <td>0</td>\n",
              "      <td>0</td>\n",
              "      <td>0</td>\n",
              "      <td>0</td>\n",
              "      <td>0</td>\n",
              "      <td>0</td>\n",
              "      <td>0</td>\n",
              "      <td>0</td>\n",
              "      <td>0</td>\n",
              "      <td>0</td>\n",
              "      <td>0</td>\n",
              "      <td>0</td>\n",
              "      <td>0</td>\n",
              "      <td>0</td>\n",
              "      <td>0</td>\n",
              "      <td>0</td>\n",
              "      <td>0</td>\n",
              "      <td>0</td>\n",
              "      <td>0</td>\n",
              "      <td>0</td>\n",
              "      <td>0</td>\n",
              "    </tr>\n",
              "    <tr>\n",
              "      <th>1</th>\n",
              "      <td>333320</td>\n",
              "      <td>2015-06-07 20:39:50</td>\n",
              "      <td>2015-06-08 01:38:54</td>\n",
              "      <td>16</td>\n",
              "      <td>EOGFQPIZPYXFZ</td>\n",
              "      <td>Ads</td>\n",
              "      <td>Chrome</td>\n",
              "      <td>F</td>\n",
              "      <td>53</td>\n",
              "      <td>3.503114e+08</td>\n",
              "      <td>0</td>\n",
              "      <td>United States</td>\n",
              "      <td>0</td>\n",
              "      <td>0</td>\n",
              "      <td>0</td>\n",
              "      <td>0</td>\n",
              "      <td>0</td>\n",
              "      <td>0</td>\n",
              "      <td>0</td>\n",
              "      <td>0</td>\n",
              "      <td>0</td>\n",
              "      <td>0</td>\n",
              "      <td>0</td>\n",
              "      <td>0</td>\n",
              "      <td>0</td>\n",
              "      <td>0</td>\n",
              "      <td>0</td>\n",
              "      <td>0</td>\n",
              "      <td>0</td>\n",
              "      <td>0</td>\n",
              "      <td>0</td>\n",
              "      <td>0</td>\n",
              "      <td>0</td>\n",
              "      <td>0</td>\n",
              "      <td>0</td>\n",
              "      <td>0</td>\n",
              "      <td>0</td>\n",
              "      <td>0</td>\n",
              "      <td>0</td>\n",
              "      <td>0</td>\n",
              "      <td>...</td>\n",
              "      <td>0</td>\n",
              "      <td>0</td>\n",
              "      <td>0</td>\n",
              "      <td>0</td>\n",
              "      <td>0</td>\n",
              "      <td>0</td>\n",
              "      <td>0</td>\n",
              "      <td>0</td>\n",
              "      <td>0</td>\n",
              "      <td>0</td>\n",
              "      <td>0</td>\n",
              "      <td>0</td>\n",
              "      <td>0</td>\n",
              "      <td>0</td>\n",
              "      <td>0</td>\n",
              "      <td>0</td>\n",
              "      <td>0</td>\n",
              "      <td>0</td>\n",
              "      <td>0</td>\n",
              "      <td>0</td>\n",
              "      <td>0</td>\n",
              "      <td>0</td>\n",
              "      <td>0</td>\n",
              "      <td>0</td>\n",
              "      <td>0</td>\n",
              "      <td>0</td>\n",
              "      <td>0</td>\n",
              "      <td>0</td>\n",
              "      <td>0</td>\n",
              "      <td>0</td>\n",
              "      <td>1</td>\n",
              "      <td>0</td>\n",
              "      <td>0</td>\n",
              "      <td>0</td>\n",
              "      <td>0</td>\n",
              "      <td>0</td>\n",
              "      <td>0</td>\n",
              "      <td>0</td>\n",
              "      <td>0</td>\n",
              "      <td>0</td>\n",
              "    </tr>\n",
              "    <tr>\n",
              "      <th>2</th>\n",
              "      <td>1359</td>\n",
              "      <td>2015-01-01 18:52:44</td>\n",
              "      <td>2015-01-01 18:52:45</td>\n",
              "      <td>15</td>\n",
              "      <td>YSSKYOSJHPPLJ</td>\n",
              "      <td>SEO</td>\n",
              "      <td>Opera</td>\n",
              "      <td>M</td>\n",
              "      <td>53</td>\n",
              "      <td>2.621474e+09</td>\n",
              "      <td>1</td>\n",
              "      <td>United States</td>\n",
              "      <td>0</td>\n",
              "      <td>0</td>\n",
              "      <td>0</td>\n",
              "      <td>0</td>\n",
              "      <td>0</td>\n",
              "      <td>0</td>\n",
              "      <td>0</td>\n",
              "      <td>0</td>\n",
              "      <td>0</td>\n",
              "      <td>0</td>\n",
              "      <td>0</td>\n",
              "      <td>0</td>\n",
              "      <td>0</td>\n",
              "      <td>0</td>\n",
              "      <td>0</td>\n",
              "      <td>0</td>\n",
              "      <td>0</td>\n",
              "      <td>0</td>\n",
              "      <td>0</td>\n",
              "      <td>0</td>\n",
              "      <td>0</td>\n",
              "      <td>0</td>\n",
              "      <td>0</td>\n",
              "      <td>0</td>\n",
              "      <td>0</td>\n",
              "      <td>0</td>\n",
              "      <td>0</td>\n",
              "      <td>0</td>\n",
              "      <td>...</td>\n",
              "      <td>0</td>\n",
              "      <td>0</td>\n",
              "      <td>0</td>\n",
              "      <td>0</td>\n",
              "      <td>0</td>\n",
              "      <td>0</td>\n",
              "      <td>0</td>\n",
              "      <td>0</td>\n",
              "      <td>0</td>\n",
              "      <td>0</td>\n",
              "      <td>0</td>\n",
              "      <td>0</td>\n",
              "      <td>0</td>\n",
              "      <td>0</td>\n",
              "      <td>0</td>\n",
              "      <td>0</td>\n",
              "      <td>0</td>\n",
              "      <td>0</td>\n",
              "      <td>0</td>\n",
              "      <td>0</td>\n",
              "      <td>0</td>\n",
              "      <td>0</td>\n",
              "      <td>0</td>\n",
              "      <td>0</td>\n",
              "      <td>0</td>\n",
              "      <td>0</td>\n",
              "      <td>0</td>\n",
              "      <td>0</td>\n",
              "      <td>0</td>\n",
              "      <td>0</td>\n",
              "      <td>1</td>\n",
              "      <td>0</td>\n",
              "      <td>0</td>\n",
              "      <td>0</td>\n",
              "      <td>0</td>\n",
              "      <td>0</td>\n",
              "      <td>0</td>\n",
              "      <td>0</td>\n",
              "      <td>0</td>\n",
              "      <td>0</td>\n",
              "    </tr>\n",
              "    <tr>\n",
              "      <th>3</th>\n",
              "      <td>150084</td>\n",
              "      <td>2015-04-28 21:13:25</td>\n",
              "      <td>2015-05-04 13:54:50</td>\n",
              "      <td>44</td>\n",
              "      <td>ATGTXKYKUDUQN</td>\n",
              "      <td>SEO</td>\n",
              "      <td>Safari</td>\n",
              "      <td>M</td>\n",
              "      <td>41</td>\n",
              "      <td>3.840542e+09</td>\n",
              "      <td>0</td>\n",
              "      <td>Faltando</td>\n",
              "      <td>0</td>\n",
              "      <td>0</td>\n",
              "      <td>0</td>\n",
              "      <td>0</td>\n",
              "      <td>0</td>\n",
              "      <td>0</td>\n",
              "      <td>0</td>\n",
              "      <td>0</td>\n",
              "      <td>0</td>\n",
              "      <td>0</td>\n",
              "      <td>0</td>\n",
              "      <td>0</td>\n",
              "      <td>0</td>\n",
              "      <td>0</td>\n",
              "      <td>0</td>\n",
              "      <td>0</td>\n",
              "      <td>0</td>\n",
              "      <td>0</td>\n",
              "      <td>0</td>\n",
              "      <td>0</td>\n",
              "      <td>0</td>\n",
              "      <td>0</td>\n",
              "      <td>0</td>\n",
              "      <td>0</td>\n",
              "      <td>0</td>\n",
              "      <td>0</td>\n",
              "      <td>0</td>\n",
              "      <td>0</td>\n",
              "      <td>...</td>\n",
              "      <td>0</td>\n",
              "      <td>0</td>\n",
              "      <td>0</td>\n",
              "      <td>0</td>\n",
              "      <td>0</td>\n",
              "      <td>0</td>\n",
              "      <td>0</td>\n",
              "      <td>0</td>\n",
              "      <td>0</td>\n",
              "      <td>0</td>\n",
              "      <td>0</td>\n",
              "      <td>0</td>\n",
              "      <td>0</td>\n",
              "      <td>0</td>\n",
              "      <td>0</td>\n",
              "      <td>0</td>\n",
              "      <td>0</td>\n",
              "      <td>0</td>\n",
              "      <td>0</td>\n",
              "      <td>0</td>\n",
              "      <td>0</td>\n",
              "      <td>0</td>\n",
              "      <td>0</td>\n",
              "      <td>0</td>\n",
              "      <td>0</td>\n",
              "      <td>0</td>\n",
              "      <td>0</td>\n",
              "      <td>0</td>\n",
              "      <td>0</td>\n",
              "      <td>0</td>\n",
              "      <td>0</td>\n",
              "      <td>0</td>\n",
              "      <td>0</td>\n",
              "      <td>0</td>\n",
              "      <td>0</td>\n",
              "      <td>0</td>\n",
              "      <td>0</td>\n",
              "      <td>0</td>\n",
              "      <td>0</td>\n",
              "      <td>0</td>\n",
              "    </tr>\n",
              "    <tr>\n",
              "      <th>4</th>\n",
              "      <td>221365</td>\n",
              "      <td>2015-07-21 07:09:52</td>\n",
              "      <td>2015-09-09 18:40:53</td>\n",
              "      <td>39</td>\n",
              "      <td>NAUITBZFJKHWW</td>\n",
              "      <td>Ads</td>\n",
              "      <td>Safari</td>\n",
              "      <td>M</td>\n",
              "      <td>45</td>\n",
              "      <td>4.155831e+08</td>\n",
              "      <td>0</td>\n",
              "      <td>United States</td>\n",
              "      <td>0</td>\n",
              "      <td>0</td>\n",
              "      <td>0</td>\n",
              "      <td>0</td>\n",
              "      <td>0</td>\n",
              "      <td>0</td>\n",
              "      <td>0</td>\n",
              "      <td>0</td>\n",
              "      <td>0</td>\n",
              "      <td>0</td>\n",
              "      <td>0</td>\n",
              "      <td>0</td>\n",
              "      <td>0</td>\n",
              "      <td>0</td>\n",
              "      <td>0</td>\n",
              "      <td>0</td>\n",
              "      <td>0</td>\n",
              "      <td>0</td>\n",
              "      <td>0</td>\n",
              "      <td>0</td>\n",
              "      <td>0</td>\n",
              "      <td>0</td>\n",
              "      <td>0</td>\n",
              "      <td>0</td>\n",
              "      <td>0</td>\n",
              "      <td>0</td>\n",
              "      <td>0</td>\n",
              "      <td>0</td>\n",
              "      <td>...</td>\n",
              "      <td>0</td>\n",
              "      <td>0</td>\n",
              "      <td>0</td>\n",
              "      <td>0</td>\n",
              "      <td>0</td>\n",
              "      <td>0</td>\n",
              "      <td>0</td>\n",
              "      <td>0</td>\n",
              "      <td>0</td>\n",
              "      <td>0</td>\n",
              "      <td>0</td>\n",
              "      <td>0</td>\n",
              "      <td>0</td>\n",
              "      <td>0</td>\n",
              "      <td>0</td>\n",
              "      <td>0</td>\n",
              "      <td>0</td>\n",
              "      <td>0</td>\n",
              "      <td>0</td>\n",
              "      <td>0</td>\n",
              "      <td>0</td>\n",
              "      <td>0</td>\n",
              "      <td>0</td>\n",
              "      <td>0</td>\n",
              "      <td>0</td>\n",
              "      <td>0</td>\n",
              "      <td>0</td>\n",
              "      <td>0</td>\n",
              "      <td>0</td>\n",
              "      <td>0</td>\n",
              "      <td>1</td>\n",
              "      <td>0</td>\n",
              "      <td>0</td>\n",
              "      <td>0</td>\n",
              "      <td>0</td>\n",
              "      <td>0</td>\n",
              "      <td>0</td>\n",
              "      <td>0</td>\n",
              "      <td>0</td>\n",
              "      <td>0</td>\n",
              "    </tr>\n",
              "  </tbody>\n",
              "</table>\n",
              "<p>5 rows × 377 columns</p>\n",
              "</div>"
            ],
            "text/plain": [
              "       id            cadastro  ... pais_Zambia  pais_Zimbabwe\n",
              "0   22058 2015-02-24 22:55:49  ...           0              0\n",
              "1  333320 2015-06-07 20:39:50  ...           0              0\n",
              "2    1359 2015-01-01 18:52:44  ...           0              0\n",
              "3  150084 2015-04-28 21:13:25  ...           0              0\n",
              "4  221365 2015-07-21 07:09:52  ...           0              0\n",
              "\n",
              "[5 rows x 377 columns]"
            ]
          },
          "metadata": {
            "tags": []
          },
          "execution_count": 120
        }
      ]
    },
    {
      "cell_type": "code",
      "metadata": {
        "id": "w1MVx1YGLWAB",
        "colab_type": "code",
        "colab": {
          "base_uri": "https://localhost:8080/",
          "height": 314
        },
        "outputId": "db50665a-aa87-4225-9ab6-b605e0960cfc"
      },
      "source": [
        "fraude_df['media_id'] = (fraude_df['id_por_dispositivo'] + fraude_df['id_por_ip']) * 0.5\n",
        "\n",
        "ax = sns.distplot(fraude_df[fraude_df['fraude'] == 1]['media_id'], kde=False)\n",
        "ax.figure.set_size_inches(10, 4)\n",
        "ax.set_title('Distribuição por Nº médio de IDs', fontsize=14)\n",
        "ax.set(xlabel='Nº Médio de IDs', ylabel='Contagem')"
      ],
      "execution_count": 125,
      "outputs": [
        {
          "output_type": "execute_result",
          "data": {
            "text/plain": [
              "[Text(0, 0.5, 'Contagem'), Text(0.5, 0, 'Nº Médio de IDs')]"
            ]
          },
          "metadata": {
            "tags": []
          },
          "execution_count": 125
        },
        {
          "output_type": "display_data",
          "data": {
            "image/png": "[encoded data removed]",
            "text/plain": [
              "<Figure size 720x288 with 1 Axes>"
            ]
          },
          "metadata": {
            "tags": []
          }
        }
      ]
    },
    {
      "cell_type": "code",
      "metadata": {
        "id": "czjtXMoiLXLS",
        "colab_type": "code",
        "colab": {
          "base_uri": "https://localhost:8080/",
          "height": 330
        },
        "outputId": "fdd6bde6-3c26-47ee-f318-8189f9a6a8ae"
      },
      "source": [
        "ax = sns.distplot(fraude_df[fraude_df['fraude'] == 1]['tempo'], kde=False, bins=25)\n",
        "ax.figure.set_size_inches(10, 4)\n",
        "ax.set_title('Distribuição por Tempo de Compra', fontsize=14)\n",
        "ax.set(xlabel='Tempo de compra e inscrição (segundos)', ylabel='Contagem')"
      ],
      "execution_count": 126,
      "outputs": [
        {
          "output_type": "execute_result",
          "data": {
            "text/plain": [
              "[Text(0, 0.5, 'Contagem'),\n",
              " Text(0.5, 0, 'Tempo de compra e inscrição (segundos)')]"
            ]
          },
          "metadata": {
            "tags": []
          },
          "execution_count": 126
        },
        {
          "output_type": "display_data",
          "data": {
            "image/png": "[encoded data removed]",
            "text/plain": [
              "<Figure size 720x288 with 1 Axes>"
            ]
          },
          "metadata": {
            "tags": []
          }
        }
      ]
    },
    {
      "cell_type": "markdown",
      "metadata": {
        "id": "fR8IvXcDGsp8",
        "colab_type": "text"
      },
      "source": [
        "# **Preparação do Conjunto de Dados**"
      ]
    },
    {
      "cell_type": "code",
      "metadata": {
        "id": "QdmFZjf_Mzri",
        "colab_type": "code",
        "colab": {
          "base_uri": "https://localhost:8080/",
          "height": 474
        },
        "outputId": "215943cb-c29d-4d54-b046-d64e8169f7b8"
      },
      "source": [
        "userid_count3 = fraude_df.groupby('id_dispositivo')['id'].count()\n",
        "fraude_df['id_por_dispositivo'] = fraude_df['id_dispositivo'].apply(lambda x: userid_count3[x])\n",
        "\n",
        "userid_count4 = fraude_df.groupby('ip')['id'].count()\n",
        "fraude_df['id_por_ip'] = fraude_df['ip'].apply(lambda x: userid_count4[x])\n",
        "\n",
        "# fraude_df['media_id'] = (fraude_df['id_por_dispositivo'] + fraude_df['id_por_ip']) * 0.5\n",
        "# fraude_df['cadastro'] = fraude_df['cadastro'].apply(pd.to_datetime)\n",
        "# fraude_df['compra'] = fraude_df['compra'].apply(pd.to_datetime)\n",
        "# fraude_df['tempo'] = (fraude_df['compra'] - fraude_df['cadastro']).apply(lambda x: x.seconds)\n",
        "\n",
        "fraude_df.head()"
      ],
      "execution_count": 131,
      "outputs": [
        {
          "output_type": "execute_result",
          "data": {
            "text/html": [
              "<div>\n",
              "<style scoped>\n",
              "    .dataframe tbody tr th:only-of-type {\n",
              "        vertical-align: middle;\n",
              "    }\n",
              "\n",
              "    .dataframe tbody tr th {\n",
              "        vertical-align: top;\n",
              "    }\n",
              "\n",
              "    .dataframe thead th {\n",
              "        text-align: right;\n",
              "    }\n",
              "</style>\n",
              "<table border=\"1\" class=\"dataframe\">\n",
              "  <thead>\n",
              "    <tr style=\"text-align: right;\">\n",
              "      <th></th>\n",
              "      <th>id</th>\n",
              "      <th>cadastro</th>\n",
              "      <th>compra</th>\n",
              "      <th>valor</th>\n",
              "      <th>id_dispositivo</th>\n",
              "      <th>fonte</th>\n",
              "      <th>browser</th>\n",
              "      <th>genero</th>\n",
              "      <th>idade</th>\n",
              "      <th>ip</th>\n",
              "      <th>fraude</th>\n",
              "      <th>pais</th>\n",
              "      <th>pais_Afghanistan</th>\n",
              "      <th>pais_Albania</th>\n",
              "      <th>pais_Algeria</th>\n",
              "      <th>pais_Angola</th>\n",
              "      <th>pais_Antigua and Barbuda</th>\n",
              "      <th>pais_Argentina</th>\n",
              "      <th>pais_Armenia</th>\n",
              "      <th>pais_Australia</th>\n",
              "      <th>pais_Austria</th>\n",
              "      <th>pais_Azerbaijan</th>\n",
              "      <th>pais_Bahamas</th>\n",
              "      <th>pais_Bahrain</th>\n",
              "      <th>pais_Bangladesh</th>\n",
              "      <th>pais_Barbados</th>\n",
              "      <th>pais_Belarus</th>\n",
              "      <th>pais_Belgium</th>\n",
              "      <th>pais_Belize</th>\n",
              "      <th>pais_Benin</th>\n",
              "      <th>pais_Bermuda</th>\n",
              "      <th>pais_Bhutan</th>\n",
              "      <th>pais_Bolivia</th>\n",
              "      <th>pais_Bonaire; Sint Eustatius; Saba</th>\n",
              "      <th>pais_Bosnia and Herzegowina</th>\n",
              "      <th>pais_Botswana</th>\n",
              "      <th>pais_Brazil</th>\n",
              "      <th>pais_British Indian Ocean Territory</th>\n",
              "      <th>pais_Brunei Darussalam</th>\n",
              "      <th>pais_Bulgaria</th>\n",
              "      <th>...</th>\n",
              "      <th>pais_Saudi Arabia</th>\n",
              "      <th>pais_Senegal</th>\n",
              "      <th>pais_Serbia</th>\n",
              "      <th>pais_Seychelles</th>\n",
              "      <th>pais_Singapore</th>\n",
              "      <th>pais_Slovakia (SLOVAK Republic)</th>\n",
              "      <th>pais_Slovenia</th>\n",
              "      <th>pais_South Africa</th>\n",
              "      <th>pais_South Sudan</th>\n",
              "      <th>pais_Spain</th>\n",
              "      <th>pais_Sri Lanka</th>\n",
              "      <th>pais_Sudan</th>\n",
              "      <th>pais_Sweden</th>\n",
              "      <th>pais_Switzerland</th>\n",
              "      <th>pais_Syrian Arab Republic</th>\n",
              "      <th>pais_Taiwan; Republic of China (ROC)</th>\n",
              "      <th>pais_Tajikistan</th>\n",
              "      <th>pais_Tanzania United Republic of</th>\n",
              "      <th>pais_Thailand</th>\n",
              "      <th>pais_Trinidad and Tobago</th>\n",
              "      <th>pais_Tunisia</th>\n",
              "      <th>pais_Turkey</th>\n",
              "      <th>pais_Turkmenistan</th>\n",
              "      <th>pais_Uganda</th>\n",
              "      <th>pais_Ukraine</th>\n",
              "      <th>pais_United Arab Emirates</th>\n",
              "      <th>pais_United Kingdom</th>\n",
              "      <th>pais_United States</th>\n",
              "      <th>pais_Uruguay</th>\n",
              "      <th>pais_Uzbekistan</th>\n",
              "      <th>pais_Vanuatu</th>\n",
              "      <th>pais_Venezuela</th>\n",
              "      <th>pais_Viet Nam</th>\n",
              "      <th>pais_Virgin Islands (U.S.)</th>\n",
              "      <th>pais_Yemen</th>\n",
              "      <th>pais_Zambia</th>\n",
              "      <th>pais_Zimbabwe</th>\n",
              "      <th>id_por_dispositivo</th>\n",
              "      <th>id_por_ip</th>\n",
              "      <th>media_id</th>\n",
              "    </tr>\n",
              "  </thead>\n",
              "  <tbody>\n",
              "    <tr>\n",
              "      <th>0</th>\n",
              "      <td>22058</td>\n",
              "      <td>2015-02-24 22:55:49</td>\n",
              "      <td>2015-04-18 02:47:11</td>\n",
              "      <td>34</td>\n",
              "      <td>QVPSPJUOCKZAR</td>\n",
              "      <td>SEO</td>\n",
              "      <td>Chrome</td>\n",
              "      <td>M</td>\n",
              "      <td>39</td>\n",
              "      <td>7.327584e+08</td>\n",
              "      <td>0</td>\n",
              "      <td>Japan</td>\n",
              "      <td>0</td>\n",
              "      <td>0</td>\n",
              "      <td>0</td>\n",
              "      <td>0</td>\n",
              "      <td>0</td>\n",
              "      <td>0</td>\n",
              "      <td>0</td>\n",
              "      <td>0</td>\n",
              "      <td>0</td>\n",
              "      <td>0</td>\n",
              "      <td>0</td>\n",
              "      <td>0</td>\n",
              "      <td>0</td>\n",
              "      <td>0</td>\n",
              "      <td>0</td>\n",
              "      <td>0</td>\n",
              "      <td>0</td>\n",
              "      <td>0</td>\n",
              "      <td>0</td>\n",
              "      <td>0</td>\n",
              "      <td>0</td>\n",
              "      <td>0</td>\n",
              "      <td>0</td>\n",
              "      <td>0</td>\n",
              "      <td>0</td>\n",
              "      <td>0</td>\n",
              "      <td>0</td>\n",
              "      <td>0</td>\n",
              "      <td>...</td>\n",
              "      <td>0</td>\n",
              "      <td>0</td>\n",
              "      <td>0</td>\n",
              "      <td>0</td>\n",
              "      <td>0</td>\n",
              "      <td>0</td>\n",
              "      <td>0</td>\n",
              "      <td>0</td>\n",
              "      <td>0</td>\n",
              "      <td>0</td>\n",
              "      <td>0</td>\n",
              "      <td>0</td>\n",
              "      <td>0</td>\n",
              "      <td>0</td>\n",
              "      <td>0</td>\n",
              "      <td>0</td>\n",
              "      <td>0</td>\n",
              "      <td>0</td>\n",
              "      <td>0</td>\n",
              "      <td>0</td>\n",
              "      <td>0</td>\n",
              "      <td>0</td>\n",
              "      <td>0</td>\n",
              "      <td>0</td>\n",
              "      <td>0</td>\n",
              "      <td>0</td>\n",
              "      <td>0</td>\n",
              "      <td>0</td>\n",
              "      <td>0</td>\n",
              "      <td>0</td>\n",
              "      <td>0</td>\n",
              "      <td>0</td>\n",
              "      <td>0</td>\n",
              "      <td>0</td>\n",
              "      <td>0</td>\n",
              "      <td>0</td>\n",
              "      <td>0</td>\n",
              "      <td>1</td>\n",
              "      <td>1</td>\n",
              "      <td>1.0</td>\n",
              "    </tr>\n",
              "    <tr>\n",
              "      <th>1</th>\n",
              "      <td>333320</td>\n",
              "      <td>2015-06-07 20:39:50</td>\n",
              "      <td>2015-06-08 01:38:54</td>\n",
              "      <td>16</td>\n",
              "      <td>EOGFQPIZPYXFZ</td>\n",
              "      <td>Ads</td>\n",
              "      <td>Chrome</td>\n",
              "      <td>F</td>\n",
              "      <td>53</td>\n",
              "      <td>3.503114e+08</td>\n",
              "      <td>0</td>\n",
              "      <td>United States</td>\n",
              "      <td>0</td>\n",
              "      <td>0</td>\n",
              "      <td>0</td>\n",
              "      <td>0</td>\n",
              "      <td>0</td>\n",
              "      <td>0</td>\n",
              "      <td>0</td>\n",
              "      <td>0</td>\n",
              "      <td>0</td>\n",
              "      <td>0</td>\n",
              "      <td>0</td>\n",
              "      <td>0</td>\n",
              "      <td>0</td>\n",
              "      <td>0</td>\n",
              "      <td>0</td>\n",
              "      <td>0</td>\n",
              "      <td>0</td>\n",
              "      <td>0</td>\n",
              "      <td>0</td>\n",
              "      <td>0</td>\n",
              "      <td>0</td>\n",
              "      <td>0</td>\n",
              "      <td>0</td>\n",
              "      <td>0</td>\n",
              "      <td>0</td>\n",
              "      <td>0</td>\n",
              "      <td>0</td>\n",
              "      <td>0</td>\n",
              "      <td>...</td>\n",
              "      <td>0</td>\n",
              "      <td>0</td>\n",
              "      <td>0</td>\n",
              "      <td>0</td>\n",
              "      <td>0</td>\n",
              "      <td>0</td>\n",
              "      <td>0</td>\n",
              "      <td>0</td>\n",
              "      <td>0</td>\n",
              "      <td>0</td>\n",
              "      <td>0</td>\n",
              "      <td>0</td>\n",
              "      <td>0</td>\n",
              "      <td>0</td>\n",
              "      <td>0</td>\n",
              "      <td>0</td>\n",
              "      <td>0</td>\n",
              "      <td>0</td>\n",
              "      <td>0</td>\n",
              "      <td>0</td>\n",
              "      <td>0</td>\n",
              "      <td>0</td>\n",
              "      <td>0</td>\n",
              "      <td>0</td>\n",
              "      <td>0</td>\n",
              "      <td>0</td>\n",
              "      <td>0</td>\n",
              "      <td>1</td>\n",
              "      <td>0</td>\n",
              "      <td>0</td>\n",
              "      <td>0</td>\n",
              "      <td>0</td>\n",
              "      <td>0</td>\n",
              "      <td>0</td>\n",
              "      <td>0</td>\n",
              "      <td>0</td>\n",
              "      <td>0</td>\n",
              "      <td>1</td>\n",
              "      <td>1</td>\n",
              "      <td>1.0</td>\n",
              "    </tr>\n",
              "    <tr>\n",
              "      <th>2</th>\n",
              "      <td>1359</td>\n",
              "      <td>2015-01-01 18:52:44</td>\n",
              "      <td>2015-01-01 18:52:45</td>\n",
              "      <td>15</td>\n",
              "      <td>YSSKYOSJHPPLJ</td>\n",
              "      <td>SEO</td>\n",
              "      <td>Opera</td>\n",
              "      <td>M</td>\n",
              "      <td>53</td>\n",
              "      <td>2.621474e+09</td>\n",
              "      <td>1</td>\n",
              "      <td>United States</td>\n",
              "      <td>0</td>\n",
              "      <td>0</td>\n",
              "      <td>0</td>\n",
              "      <td>0</td>\n",
              "      <td>0</td>\n",
              "      <td>0</td>\n",
              "      <td>0</td>\n",
              "      <td>0</td>\n",
              "      <td>0</td>\n",
              "      <td>0</td>\n",
              "      <td>0</td>\n",
              "      <td>0</td>\n",
              "      <td>0</td>\n",
              "      <td>0</td>\n",
              "      <td>0</td>\n",
              "      <td>0</td>\n",
              "      <td>0</td>\n",
              "      <td>0</td>\n",
              "      <td>0</td>\n",
              "      <td>0</td>\n",
              "      <td>0</td>\n",
              "      <td>0</td>\n",
              "      <td>0</td>\n",
              "      <td>0</td>\n",
              "      <td>0</td>\n",
              "      <td>0</td>\n",
              "      <td>0</td>\n",
              "      <td>0</td>\n",
              "      <td>...</td>\n",
              "      <td>0</td>\n",
              "      <td>0</td>\n",
              "      <td>0</td>\n",
              "      <td>0</td>\n",
              "      <td>0</td>\n",
              "      <td>0</td>\n",
              "      <td>0</td>\n",
              "      <td>0</td>\n",
              "      <td>0</td>\n",
              "      <td>0</td>\n",
              "      <td>0</td>\n",
              "      <td>0</td>\n",
              "      <td>0</td>\n",
              "      <td>0</td>\n",
              "      <td>0</td>\n",
              "      <td>0</td>\n",
              "      <td>0</td>\n",
              "      <td>0</td>\n",
              "      <td>0</td>\n",
              "      <td>0</td>\n",
              "      <td>0</td>\n",
              "      <td>0</td>\n",
              "      <td>0</td>\n",
              "      <td>0</td>\n",
              "      <td>0</td>\n",
              "      <td>0</td>\n",
              "      <td>0</td>\n",
              "      <td>1</td>\n",
              "      <td>0</td>\n",
              "      <td>0</td>\n",
              "      <td>0</td>\n",
              "      <td>0</td>\n",
              "      <td>0</td>\n",
              "      <td>0</td>\n",
              "      <td>0</td>\n",
              "      <td>0</td>\n",
              "      <td>0</td>\n",
              "      <td>12</td>\n",
              "      <td>12</td>\n",
              "      <td>12.0</td>\n",
              "    </tr>\n",
              "    <tr>\n",
              "      <th>3</th>\n",
              "      <td>150084</td>\n",
              "      <td>2015-04-28 21:13:25</td>\n",
              "      <td>2015-05-04 13:54:50</td>\n",
              "      <td>44</td>\n",
              "      <td>ATGTXKYKUDUQN</td>\n",
              "      <td>SEO</td>\n",
              "      <td>Safari</td>\n",
              "      <td>M</td>\n",
              "      <td>41</td>\n",
              "      <td>3.840542e+09</td>\n",
              "      <td>0</td>\n",
              "      <td>Faltando</td>\n",
              "      <td>0</td>\n",
              "      <td>0</td>\n",
              "      <td>0</td>\n",
              "      <td>0</td>\n",
              "      <td>0</td>\n",
              "      <td>0</td>\n",
              "      <td>0</td>\n",
              "      <td>0</td>\n",
              "      <td>0</td>\n",
              "      <td>0</td>\n",
              "      <td>0</td>\n",
              "      <td>0</td>\n",
              "      <td>0</td>\n",
              "      <td>0</td>\n",
              "      <td>0</td>\n",
              "      <td>0</td>\n",
              "      <td>0</td>\n",
              "      <td>0</td>\n",
              "      <td>0</td>\n",
              "      <td>0</td>\n",
              "      <td>0</td>\n",
              "      <td>0</td>\n",
              "      <td>0</td>\n",
              "      <td>0</td>\n",
              "      <td>0</td>\n",
              "      <td>0</td>\n",
              "      <td>0</td>\n",
              "      <td>0</td>\n",
              "      <td>...</td>\n",
              "      <td>0</td>\n",
              "      <td>0</td>\n",
              "      <td>0</td>\n",
              "      <td>0</td>\n",
              "      <td>0</td>\n",
              "      <td>0</td>\n",
              "      <td>0</td>\n",
              "      <td>0</td>\n",
              "      <td>0</td>\n",
              "      <td>0</td>\n",
              "      <td>0</td>\n",
              "      <td>0</td>\n",
              "      <td>0</td>\n",
              "      <td>0</td>\n",
              "      <td>0</td>\n",
              "      <td>0</td>\n",
              "      <td>0</td>\n",
              "      <td>0</td>\n",
              "      <td>0</td>\n",
              "      <td>0</td>\n",
              "      <td>0</td>\n",
              "      <td>0</td>\n",
              "      <td>0</td>\n",
              "      <td>0</td>\n",
              "      <td>0</td>\n",
              "      <td>0</td>\n",
              "      <td>0</td>\n",
              "      <td>0</td>\n",
              "      <td>0</td>\n",
              "      <td>0</td>\n",
              "      <td>0</td>\n",
              "      <td>0</td>\n",
              "      <td>0</td>\n",
              "      <td>0</td>\n",
              "      <td>0</td>\n",
              "      <td>0</td>\n",
              "      <td>0</td>\n",
              "      <td>1</td>\n",
              "      <td>1</td>\n",
              "      <td>1.0</td>\n",
              "    </tr>\n",
              "    <tr>\n",
              "      <th>4</th>\n",
              "      <td>221365</td>\n",
              "      <td>2015-07-21 07:09:52</td>\n",
              "      <td>2015-09-09 18:40:53</td>\n",
              "      <td>39</td>\n",
              "      <td>NAUITBZFJKHWW</td>\n",
              "      <td>Ads</td>\n",
              "      <td>Safari</td>\n",
              "      <td>M</td>\n",
              "      <td>45</td>\n",
              "      <td>4.155831e+08</td>\n",
              "      <td>0</td>\n",
              "      <td>United States</td>\n",
              "      <td>0</td>\n",
              "      <td>0</td>\n",
              "      <td>0</td>\n",
              "      <td>0</td>\n",
              "      <td>0</td>\n",
              "      <td>0</td>\n",
              "      <td>0</td>\n",
              "      <td>0</td>\n",
              "      <td>0</td>\n",
              "      <td>0</td>\n",
              "      <td>0</td>\n",
              "      <td>0</td>\n",
              "      <td>0</td>\n",
              "      <td>0</td>\n",
              "      <td>0</td>\n",
              "      <td>0</td>\n",
              "      <td>0</td>\n",
              "      <td>0</td>\n",
              "      <td>0</td>\n",
              "      <td>0</td>\n",
              "      <td>0</td>\n",
              "      <td>0</td>\n",
              "      <td>0</td>\n",
              "      <td>0</td>\n",
              "      <td>0</td>\n",
              "      <td>0</td>\n",
              "      <td>0</td>\n",
              "      <td>0</td>\n",
              "      <td>...</td>\n",
              "      <td>0</td>\n",
              "      <td>0</td>\n",
              "      <td>0</td>\n",
              "      <td>0</td>\n",
              "      <td>0</td>\n",
              "      <td>0</td>\n",
              "      <td>0</td>\n",
              "      <td>0</td>\n",
              "      <td>0</td>\n",
              "      <td>0</td>\n",
              "      <td>0</td>\n",
              "      <td>0</td>\n",
              "      <td>0</td>\n",
              "      <td>0</td>\n",
              "      <td>0</td>\n",
              "      <td>0</td>\n",
              "      <td>0</td>\n",
              "      <td>0</td>\n",
              "      <td>0</td>\n",
              "      <td>0</td>\n",
              "      <td>0</td>\n",
              "      <td>0</td>\n",
              "      <td>0</td>\n",
              "      <td>0</td>\n",
              "      <td>0</td>\n",
              "      <td>0</td>\n",
              "      <td>0</td>\n",
              "      <td>1</td>\n",
              "      <td>0</td>\n",
              "      <td>0</td>\n",
              "      <td>0</td>\n",
              "      <td>0</td>\n",
              "      <td>0</td>\n",
              "      <td>0</td>\n",
              "      <td>0</td>\n",
              "      <td>0</td>\n",
              "      <td>0</td>\n",
              "      <td>1</td>\n",
              "      <td>1</td>\n",
              "      <td>1.0</td>\n",
              "    </tr>\n",
              "  </tbody>\n",
              "</table>\n",
              "<p>5 rows × 380 columns</p>\n",
              "</div>"
            ],
            "text/plain": [
              "       id            cadastro  ... id_por_ip  media_id\n",
              "0   22058 2015-02-24 22:55:49  ...         1       1.0\n",
              "1  333320 2015-06-07 20:39:50  ...         1       1.0\n",
              "2    1359 2015-01-01 18:52:44  ...        12      12.0\n",
              "3  150084 2015-04-28 21:13:25  ...         1       1.0\n",
              "4  221365 2015-07-21 07:09:52  ...         1       1.0\n",
              "\n",
              "[5 rows x 380 columns]"
            ]
          },
          "metadata": {
            "tags": []
          },
          "execution_count": 131
        }
      ]
    },
    {
      "cell_type": "code",
      "metadata": {
        "id": "6zZC4PG1IG2D",
        "colab_type": "code",
        "colab": {
          "base_uri": "https://localhost:8080/",
          "height": 474
        },
        "outputId": "49d1144f-4ddd-4753-f6b4-496ce7b1e0c7"
      },
      "source": [
        "pais_dummies = pd.get_dummies(fraude_df['pais'], prefix='pais')\n",
        "fraude_df = pd.concat([fraude_df, pais_dummies], axis=1)\n",
        "fraude_df.head()"
      ],
      "execution_count": 132,
      "outputs": [
        {
          "output_type": "execute_result",
          "data": {
            "text/html": [
              "<div>\n",
              "<style scoped>\n",
              "    .dataframe tbody tr th:only-of-type {\n",
              "        vertical-align: middle;\n",
              "    }\n",
              "\n",
              "    .dataframe tbody tr th {\n",
              "        vertical-align: top;\n",
              "    }\n",
              "\n",
              "    .dataframe thead th {\n",
              "        text-align: right;\n",
              "    }\n",
              "</style>\n",
              "<table border=\"1\" class=\"dataframe\">\n",
              "  <thead>\n",
              "    <tr style=\"text-align: right;\">\n",
              "      <th></th>\n",
              "      <th>id</th>\n",
              "      <th>cadastro</th>\n",
              "      <th>compra</th>\n",
              "      <th>valor</th>\n",
              "      <th>id_dispositivo</th>\n",
              "      <th>fonte</th>\n",
              "      <th>browser</th>\n",
              "      <th>genero</th>\n",
              "      <th>idade</th>\n",
              "      <th>ip</th>\n",
              "      <th>fraude</th>\n",
              "      <th>pais</th>\n",
              "      <th>pais_Afghanistan</th>\n",
              "      <th>pais_Albania</th>\n",
              "      <th>pais_Algeria</th>\n",
              "      <th>pais_Angola</th>\n",
              "      <th>pais_Antigua and Barbuda</th>\n",
              "      <th>pais_Argentina</th>\n",
              "      <th>pais_Armenia</th>\n",
              "      <th>pais_Australia</th>\n",
              "      <th>pais_Austria</th>\n",
              "      <th>pais_Azerbaijan</th>\n",
              "      <th>pais_Bahamas</th>\n",
              "      <th>pais_Bahrain</th>\n",
              "      <th>pais_Bangladesh</th>\n",
              "      <th>pais_Barbados</th>\n",
              "      <th>pais_Belarus</th>\n",
              "      <th>pais_Belgium</th>\n",
              "      <th>pais_Belize</th>\n",
              "      <th>pais_Benin</th>\n",
              "      <th>pais_Bermuda</th>\n",
              "      <th>pais_Bhutan</th>\n",
              "      <th>pais_Bolivia</th>\n",
              "      <th>pais_Bonaire; Sint Eustatius; Saba</th>\n",
              "      <th>pais_Bosnia and Herzegowina</th>\n",
              "      <th>pais_Botswana</th>\n",
              "      <th>pais_Brazil</th>\n",
              "      <th>pais_British Indian Ocean Territory</th>\n",
              "      <th>pais_Brunei Darussalam</th>\n",
              "      <th>pais_Bulgaria</th>\n",
              "      <th>...</th>\n",
              "      <th>pais_Saint Kitts and Nevis</th>\n",
              "      <th>pais_Saint Martin</th>\n",
              "      <th>pais_San Marino</th>\n",
              "      <th>pais_Saudi Arabia</th>\n",
              "      <th>pais_Senegal</th>\n",
              "      <th>pais_Serbia</th>\n",
              "      <th>pais_Seychelles</th>\n",
              "      <th>pais_Singapore</th>\n",
              "      <th>pais_Slovakia (SLOVAK Republic)</th>\n",
              "      <th>pais_Slovenia</th>\n",
              "      <th>pais_South Africa</th>\n",
              "      <th>pais_South Sudan</th>\n",
              "      <th>pais_Spain</th>\n",
              "      <th>pais_Sri Lanka</th>\n",
              "      <th>pais_Sudan</th>\n",
              "      <th>pais_Sweden</th>\n",
              "      <th>pais_Switzerland</th>\n",
              "      <th>pais_Syrian Arab Republic</th>\n",
              "      <th>pais_Taiwan; Republic of China (ROC)</th>\n",
              "      <th>pais_Tajikistan</th>\n",
              "      <th>pais_Tanzania United Republic of</th>\n",
              "      <th>pais_Thailand</th>\n",
              "      <th>pais_Trinidad and Tobago</th>\n",
              "      <th>pais_Tunisia</th>\n",
              "      <th>pais_Turkey</th>\n",
              "      <th>pais_Turkmenistan</th>\n",
              "      <th>pais_Uganda</th>\n",
              "      <th>pais_Ukraine</th>\n",
              "      <th>pais_United Arab Emirates</th>\n",
              "      <th>pais_United Kingdom</th>\n",
              "      <th>pais_United States</th>\n",
              "      <th>pais_Uruguay</th>\n",
              "      <th>pais_Uzbekistan</th>\n",
              "      <th>pais_Vanuatu</th>\n",
              "      <th>pais_Venezuela</th>\n",
              "      <th>pais_Viet Nam</th>\n",
              "      <th>pais_Virgin Islands (U.S.)</th>\n",
              "      <th>pais_Yemen</th>\n",
              "      <th>pais_Zambia</th>\n",
              "      <th>pais_Zimbabwe</th>\n",
              "    </tr>\n",
              "  </thead>\n",
              "  <tbody>\n",
              "    <tr>\n",
              "      <th>0</th>\n",
              "      <td>22058</td>\n",
              "      <td>2015-02-24 22:55:49</td>\n",
              "      <td>2015-04-18 02:47:11</td>\n",
              "      <td>34</td>\n",
              "      <td>QVPSPJUOCKZAR</td>\n",
              "      <td>SEO</td>\n",
              "      <td>Chrome</td>\n",
              "      <td>M</td>\n",
              "      <td>39</td>\n",
              "      <td>7.327584e+08</td>\n",
              "      <td>0</td>\n",
              "      <td>Japan</td>\n",
              "      <td>0</td>\n",
              "      <td>0</td>\n",
              "      <td>0</td>\n",
              "      <td>0</td>\n",
              "      <td>0</td>\n",
              "      <td>0</td>\n",
              "      <td>0</td>\n",
              "      <td>0</td>\n",
              "      <td>0</td>\n",
              "      <td>0</td>\n",
              "      <td>0</td>\n",
              "      <td>0</td>\n",
              "      <td>0</td>\n",
              "      <td>0</td>\n",
              "      <td>0</td>\n",
              "      <td>0</td>\n",
              "      <td>0</td>\n",
              "      <td>0</td>\n",
              "      <td>0</td>\n",
              "      <td>0</td>\n",
              "      <td>0</td>\n",
              "      <td>0</td>\n",
              "      <td>0</td>\n",
              "      <td>0</td>\n",
              "      <td>0</td>\n",
              "      <td>0</td>\n",
              "      <td>0</td>\n",
              "      <td>0</td>\n",
              "      <td>...</td>\n",
              "      <td>0</td>\n",
              "      <td>0</td>\n",
              "      <td>0</td>\n",
              "      <td>0</td>\n",
              "      <td>0</td>\n",
              "      <td>0</td>\n",
              "      <td>0</td>\n",
              "      <td>0</td>\n",
              "      <td>0</td>\n",
              "      <td>0</td>\n",
              "      <td>0</td>\n",
              "      <td>0</td>\n",
              "      <td>0</td>\n",
              "      <td>0</td>\n",
              "      <td>0</td>\n",
              "      <td>0</td>\n",
              "      <td>0</td>\n",
              "      <td>0</td>\n",
              "      <td>0</td>\n",
              "      <td>0</td>\n",
              "      <td>0</td>\n",
              "      <td>0</td>\n",
              "      <td>0</td>\n",
              "      <td>0</td>\n",
              "      <td>0</td>\n",
              "      <td>0</td>\n",
              "      <td>0</td>\n",
              "      <td>0</td>\n",
              "      <td>0</td>\n",
              "      <td>0</td>\n",
              "      <td>0</td>\n",
              "      <td>0</td>\n",
              "      <td>0</td>\n",
              "      <td>0</td>\n",
              "      <td>0</td>\n",
              "      <td>0</td>\n",
              "      <td>0</td>\n",
              "      <td>0</td>\n",
              "      <td>0</td>\n",
              "      <td>0</td>\n",
              "    </tr>\n",
              "    <tr>\n",
              "      <th>1</th>\n",
              "      <td>333320</td>\n",
              "      <td>2015-06-07 20:39:50</td>\n",
              "      <td>2015-06-08 01:38:54</td>\n",
              "      <td>16</td>\n",
              "      <td>EOGFQPIZPYXFZ</td>\n",
              "      <td>Ads</td>\n",
              "      <td>Chrome</td>\n",
              "      <td>F</td>\n",
              "      <td>53</td>\n",
              "      <td>3.503114e+08</td>\n",
              "      <td>0</td>\n",
              "      <td>United States</td>\n",
              "      <td>0</td>\n",
              "      <td>0</td>\n",
              "      <td>0</td>\n",
              "      <td>0</td>\n",
              "      <td>0</td>\n",
              "      <td>0</td>\n",
              "      <td>0</td>\n",
              "      <td>0</td>\n",
              "      <td>0</td>\n",
              "      <td>0</td>\n",
              "      <td>0</td>\n",
              "      <td>0</td>\n",
              "      <td>0</td>\n",
              "      <td>0</td>\n",
              "      <td>0</td>\n",
              "      <td>0</td>\n",
              "      <td>0</td>\n",
              "      <td>0</td>\n",
              "      <td>0</td>\n",
              "      <td>0</td>\n",
              "      <td>0</td>\n",
              "      <td>0</td>\n",
              "      <td>0</td>\n",
              "      <td>0</td>\n",
              "      <td>0</td>\n",
              "      <td>0</td>\n",
              "      <td>0</td>\n",
              "      <td>0</td>\n",
              "      <td>...</td>\n",
              "      <td>0</td>\n",
              "      <td>0</td>\n",
              "      <td>0</td>\n",
              "      <td>0</td>\n",
              "      <td>0</td>\n",
              "      <td>0</td>\n",
              "      <td>0</td>\n",
              "      <td>0</td>\n",
              "      <td>0</td>\n",
              "      <td>0</td>\n",
              "      <td>0</td>\n",
              "      <td>0</td>\n",
              "      <td>0</td>\n",
              "      <td>0</td>\n",
              "      <td>0</td>\n",
              "      <td>0</td>\n",
              "      <td>0</td>\n",
              "      <td>0</td>\n",
              "      <td>0</td>\n",
              "      <td>0</td>\n",
              "      <td>0</td>\n",
              "      <td>0</td>\n",
              "      <td>0</td>\n",
              "      <td>0</td>\n",
              "      <td>0</td>\n",
              "      <td>0</td>\n",
              "      <td>0</td>\n",
              "      <td>0</td>\n",
              "      <td>0</td>\n",
              "      <td>0</td>\n",
              "      <td>1</td>\n",
              "      <td>0</td>\n",
              "      <td>0</td>\n",
              "      <td>0</td>\n",
              "      <td>0</td>\n",
              "      <td>0</td>\n",
              "      <td>0</td>\n",
              "      <td>0</td>\n",
              "      <td>0</td>\n",
              "      <td>0</td>\n",
              "    </tr>\n",
              "    <tr>\n",
              "      <th>2</th>\n",
              "      <td>1359</td>\n",
              "      <td>2015-01-01 18:52:44</td>\n",
              "      <td>2015-01-01 18:52:45</td>\n",
              "      <td>15</td>\n",
              "      <td>YSSKYOSJHPPLJ</td>\n",
              "      <td>SEO</td>\n",
              "      <td>Opera</td>\n",
              "      <td>M</td>\n",
              "      <td>53</td>\n",
              "      <td>2.621474e+09</td>\n",
              "      <td>1</td>\n",
              "      <td>United States</td>\n",
              "      <td>0</td>\n",
              "      <td>0</td>\n",
              "      <td>0</td>\n",
              "      <td>0</td>\n",
              "      <td>0</td>\n",
              "      <td>0</td>\n",
              "      <td>0</td>\n",
              "      <td>0</td>\n",
              "      <td>0</td>\n",
              "      <td>0</td>\n",
              "      <td>0</td>\n",
              "      <td>0</td>\n",
              "      <td>0</td>\n",
              "      <td>0</td>\n",
              "      <td>0</td>\n",
              "      <td>0</td>\n",
              "      <td>0</td>\n",
              "      <td>0</td>\n",
              "      <td>0</td>\n",
              "      <td>0</td>\n",
              "      <td>0</td>\n",
              "      <td>0</td>\n",
              "      <td>0</td>\n",
              "      <td>0</td>\n",
              "      <td>0</td>\n",
              "      <td>0</td>\n",
              "      <td>0</td>\n",
              "      <td>0</td>\n",
              "      <td>...</td>\n",
              "      <td>0</td>\n",
              "      <td>0</td>\n",
              "      <td>0</td>\n",
              "      <td>0</td>\n",
              "      <td>0</td>\n",
              "      <td>0</td>\n",
              "      <td>0</td>\n",
              "      <td>0</td>\n",
              "      <td>0</td>\n",
              "      <td>0</td>\n",
              "      <td>0</td>\n",
              "      <td>0</td>\n",
              "      <td>0</td>\n",
              "      <td>0</td>\n",
              "      <td>0</td>\n",
              "      <td>0</td>\n",
              "      <td>0</td>\n",
              "      <td>0</td>\n",
              "      <td>0</td>\n",
              "      <td>0</td>\n",
              "      <td>0</td>\n",
              "      <td>0</td>\n",
              "      <td>0</td>\n",
              "      <td>0</td>\n",
              "      <td>0</td>\n",
              "      <td>0</td>\n",
              "      <td>0</td>\n",
              "      <td>0</td>\n",
              "      <td>0</td>\n",
              "      <td>0</td>\n",
              "      <td>1</td>\n",
              "      <td>0</td>\n",
              "      <td>0</td>\n",
              "      <td>0</td>\n",
              "      <td>0</td>\n",
              "      <td>0</td>\n",
              "      <td>0</td>\n",
              "      <td>0</td>\n",
              "      <td>0</td>\n",
              "      <td>0</td>\n",
              "    </tr>\n",
              "    <tr>\n",
              "      <th>3</th>\n",
              "      <td>150084</td>\n",
              "      <td>2015-04-28 21:13:25</td>\n",
              "      <td>2015-05-04 13:54:50</td>\n",
              "      <td>44</td>\n",
              "      <td>ATGTXKYKUDUQN</td>\n",
              "      <td>SEO</td>\n",
              "      <td>Safari</td>\n",
              "      <td>M</td>\n",
              "      <td>41</td>\n",
              "      <td>3.840542e+09</td>\n",
              "      <td>0</td>\n",
              "      <td>Faltando</td>\n",
              "      <td>0</td>\n",
              "      <td>0</td>\n",
              "      <td>0</td>\n",
              "      <td>0</td>\n",
              "      <td>0</td>\n",
              "      <td>0</td>\n",
              "      <td>0</td>\n",
              "      <td>0</td>\n",
              "      <td>0</td>\n",
              "      <td>0</td>\n",
              "      <td>0</td>\n",
              "      <td>0</td>\n",
              "      <td>0</td>\n",
              "      <td>0</td>\n",
              "      <td>0</td>\n",
              "      <td>0</td>\n",
              "      <td>0</td>\n",
              "      <td>0</td>\n",
              "      <td>0</td>\n",
              "      <td>0</td>\n",
              "      <td>0</td>\n",
              "      <td>0</td>\n",
              "      <td>0</td>\n",
              "      <td>0</td>\n",
              "      <td>0</td>\n",
              "      <td>0</td>\n",
              "      <td>0</td>\n",
              "      <td>0</td>\n",
              "      <td>...</td>\n",
              "      <td>0</td>\n",
              "      <td>0</td>\n",
              "      <td>0</td>\n",
              "      <td>0</td>\n",
              "      <td>0</td>\n",
              "      <td>0</td>\n",
              "      <td>0</td>\n",
              "      <td>0</td>\n",
              "      <td>0</td>\n",
              "      <td>0</td>\n",
              "      <td>0</td>\n",
              "      <td>0</td>\n",
              "      <td>0</td>\n",
              "      <td>0</td>\n",
              "      <td>0</td>\n",
              "      <td>0</td>\n",
              "      <td>0</td>\n",
              "      <td>0</td>\n",
              "      <td>0</td>\n",
              "      <td>0</td>\n",
              "      <td>0</td>\n",
              "      <td>0</td>\n",
              "      <td>0</td>\n",
              "      <td>0</td>\n",
              "      <td>0</td>\n",
              "      <td>0</td>\n",
              "      <td>0</td>\n",
              "      <td>0</td>\n",
              "      <td>0</td>\n",
              "      <td>0</td>\n",
              "      <td>0</td>\n",
              "      <td>0</td>\n",
              "      <td>0</td>\n",
              "      <td>0</td>\n",
              "      <td>0</td>\n",
              "      <td>0</td>\n",
              "      <td>0</td>\n",
              "      <td>0</td>\n",
              "      <td>0</td>\n",
              "      <td>0</td>\n",
              "    </tr>\n",
              "    <tr>\n",
              "      <th>4</th>\n",
              "      <td>221365</td>\n",
              "      <td>2015-07-21 07:09:52</td>\n",
              "      <td>2015-09-09 18:40:53</td>\n",
              "      <td>39</td>\n",
              "      <td>NAUITBZFJKHWW</td>\n",
              "      <td>Ads</td>\n",
              "      <td>Safari</td>\n",
              "      <td>M</td>\n",
              "      <td>45</td>\n",
              "      <td>4.155831e+08</td>\n",
              "      <td>0</td>\n",
              "      <td>United States</td>\n",
              "      <td>0</td>\n",
              "      <td>0</td>\n",
              "      <td>0</td>\n",
              "      <td>0</td>\n",
              "      <td>0</td>\n",
              "      <td>0</td>\n",
              "      <td>0</td>\n",
              "      <td>0</td>\n",
              "      <td>0</td>\n",
              "      <td>0</td>\n",
              "      <td>0</td>\n",
              "      <td>0</td>\n",
              "      <td>0</td>\n",
              "      <td>0</td>\n",
              "      <td>0</td>\n",
              "      <td>0</td>\n",
              "      <td>0</td>\n",
              "      <td>0</td>\n",
              "      <td>0</td>\n",
              "      <td>0</td>\n",
              "      <td>0</td>\n",
              "      <td>0</td>\n",
              "      <td>0</td>\n",
              "      <td>0</td>\n",
              "      <td>0</td>\n",
              "      <td>0</td>\n",
              "      <td>0</td>\n",
              "      <td>0</td>\n",
              "      <td>...</td>\n",
              "      <td>0</td>\n",
              "      <td>0</td>\n",
              "      <td>0</td>\n",
              "      <td>0</td>\n",
              "      <td>0</td>\n",
              "      <td>0</td>\n",
              "      <td>0</td>\n",
              "      <td>0</td>\n",
              "      <td>0</td>\n",
              "      <td>0</td>\n",
              "      <td>0</td>\n",
              "      <td>0</td>\n",
              "      <td>0</td>\n",
              "      <td>0</td>\n",
              "      <td>0</td>\n",
              "      <td>0</td>\n",
              "      <td>0</td>\n",
              "      <td>0</td>\n",
              "      <td>0</td>\n",
              "      <td>0</td>\n",
              "      <td>0</td>\n",
              "      <td>0</td>\n",
              "      <td>0</td>\n",
              "      <td>0</td>\n",
              "      <td>0</td>\n",
              "      <td>0</td>\n",
              "      <td>0</td>\n",
              "      <td>0</td>\n",
              "      <td>0</td>\n",
              "      <td>0</td>\n",
              "      <td>1</td>\n",
              "      <td>0</td>\n",
              "      <td>0</td>\n",
              "      <td>0</td>\n",
              "      <td>0</td>\n",
              "      <td>0</td>\n",
              "      <td>0</td>\n",
              "      <td>0</td>\n",
              "      <td>0</td>\n",
              "      <td>0</td>\n",
              "    </tr>\n",
              "  </tbody>\n",
              "</table>\n",
              "<p>5 rows × 562 columns</p>\n",
              "</div>"
            ],
            "text/plain": [
              "       id            cadastro  ... pais_Zambia  pais_Zimbabwe\n",
              "0   22058 2015-02-24 22:55:49  ...           0              0\n",
              "1  333320 2015-06-07 20:39:50  ...           0              0\n",
              "2    1359 2015-01-01 18:52:44  ...           0              0\n",
              "3  150084 2015-04-28 21:13:25  ...           0              0\n",
              "4  221365 2015-07-21 07:09:52  ...           0              0\n",
              "\n",
              "[5 rows x 562 columns]"
            ]
          },
          "metadata": {
            "tags": []
          },
          "execution_count": 132
        }
      ]
    },
    {
      "cell_type": "markdown",
      "metadata": {
        "id": "6x4fzV9XOrbB",
        "colab_type": "text"
      },
      "source": [
        "# **Geração do Modelo**"
      ]
    },
    {
      "cell_type": "code",
      "metadata": {
        "id": "t9-atzx4XdBG",
        "colab_type": "code",
        "colab": {}
      },
      "source": [
        "colunas_a_remover = [\n",
        "  'id',\n",
        "  'cadastro',\n",
        "  'compra',\n",
        "  'id_dispositivo',\n",
        "  'ip',\n",
        "  'id_por_dispositivo',\n",
        "  'id_por_ip',\n",
        "  'pais',\n",
        "  'fonte',\n",
        "  'browser',\n",
        "  'genero',\n",
        "  'idade',\n",
        "  'valor'\n",
        "]\n",
        "\n",
        "fraude_df.drop(columns=colunas_a_remover, axis=1, inplace = True)"
      ],
      "execution_count": 0,
      "outputs": []
    },
    {
      "cell_type": "code",
      "metadata": {
        "id": "y2Tfso0PGuU8",
        "colab_type": "code",
        "colab": {}
      },
      "source": [
        "onehotencoded = [\n",
        "  feature for feature in fraude_df.columns if 'pais' not in feature and feature !='fraude'\n",
        "]\n",
        "\n",
        "X = fraude_df[[col for col in fraude_df.columns if col != 'fraude']]\n",
        "Y = fraude_df[['fraude']]\n",
        "X.index = range(len(X))\n",
        "Y.index = range(len(Y))"
      ],
      "execution_count": 0,
      "outputs": []
    },
    {
      "cell_type": "code",
      "metadata": {
        "id": "VcxKCKMQHAri",
        "colab_type": "code",
        "colab": {
          "base_uri": "https://localhost:8080/",
          "height": 165
        },
        "outputId": "15d2b310-766b-4558-a854-fae6a9f7c209"
      },
      "source": [
        "# Seleção de Features\n",
        "clf = ExtraTreesClassifier()\n",
        "clf.fit(X, Y)\n",
        "\n",
        "features = pd.DataFrame()\n",
        "features['feature'] = X.columns\n",
        "features['importancia'] = clf.feature_importances_\n",
        "features[features.importancia > np.mean(features.importancia)].sort_values(by='importancia', ascending=False)"
      ],
      "execution_count": 156,
      "outputs": [
        {
          "output_type": "stream",
          "text": [
            "/usr/local/lib/python3.6/dist-packages/ipykernel_launcher.py:2: DataConversionWarning: A column-vector y was passed when a 1d array was expected. Please change the shape of y to (n_samples,), for example using ravel().\n",
            "  \n"
          ],
          "name": "stderr"
        },
        {
          "output_type": "execute_result",
          "data": {
            "text/html": [
              "<div>\n",
              "<style scoped>\n",
              "    .dataframe tbody tr th:only-of-type {\n",
              "        vertical-align: middle;\n",
              "    }\n",
              "\n",
              "    .dataframe tbody tr th {\n",
              "        vertical-align: top;\n",
              "    }\n",
              "\n",
              "    .dataframe thead th {\n",
              "        text-align: right;\n",
              "    }\n",
              "</style>\n",
              "<table border=\"1\" class=\"dataframe\">\n",
              "  <thead>\n",
              "    <tr style=\"text-align: right;\">\n",
              "      <th></th>\n",
              "      <th>feature</th>\n",
              "      <th>importancia</th>\n",
              "    </tr>\n",
              "  </thead>\n",
              "  <tbody>\n",
              "    <tr>\n",
              "      <th>546</th>\n",
              "      <td>tempo</td>\n",
              "      <td>0.551003</td>\n",
              "    </tr>\n",
              "    <tr>\n",
              "      <th>1093</th>\n",
              "      <td>media_id</td>\n",
              "      <td>0.442051</td>\n",
              "    </tr>\n",
              "  </tbody>\n",
              "</table>\n",
              "</div>"
            ],
            "text/plain": [
              "       feature  importancia\n",
              "546      tempo     0.551003\n",
              "1093  media_id     0.442051"
            ]
          },
          "metadata": {
            "tags": []
          },
          "execution_count": 156
        }
      ]
    },
    {
      "cell_type": "code",
      "metadata": {
        "id": "krG5_7VROxfC",
        "colab_type": "code",
        "colab": {}
      },
      "source": [
        "X_dev, X_eval, Y_dev, Y_eval = train_test_split(X, Y, train_size = 0.75, random_state = 23)\n",
        "Y_dev = Y_dev.apply(lambda x: 1 if x == 0 else -1)\n",
        "Y_eval = Y_eval.apply(lambda x: 1 if x == 0 else -1)"
      ],
      "execution_count": 0,
      "outputs": []
    },
    {
      "cell_type": "code",
      "metadata": {
        "id": "yD1zzjxMOyRo",
        "colab_type": "code",
        "colab": {
          "base_uri": "https://localhost:8080/",
          "height": 374
        },
        "outputId": "969a030e-ceb0-4784-9481-febf0a51d924"
      },
      "source": [
        "IF = IsolationForest(max_samples='auto', contamination = 0.095, random_state=1)\n",
        "\n",
        "param_grid = {\n",
        "    'n_estimators': [100, 150, 200, 250, 300, 350, 400, 450, 500]\n",
        "}\n",
        "\n",
        "clf = GridSearchCV(IF,\n",
        "                   param_grid,\n",
        "                   cv=2,\n",
        "                   n_jobs=3,\n",
        "                   scoring='f1',\n",
        "                   verbose=10)\n",
        "\n",
        "clf.fit(X_dev, Y_dev)"
      ],
      "execution_count": 159,
      "outputs": [
        {
          "output_type": "stream",
          "text": [
            "Fitting 2 folds for each of 9 candidates, totalling 18 fits\n"
          ],
          "name": "stdout"
        },
        {
          "output_type": "stream",
          "text": [
            "[Parallel(n_jobs=3)]: Using backend LokyBackend with 3 concurrent workers.\n"
          ],
          "name": "stderr"
        },
        {
          "output_type": "error",
          "ename": "KeyboardInterrupt",
          "evalue": "ignored",
          "traceback": [
            "\u001b[0;31m---------------------------------------------------------------------------\u001b[0m",
            "\u001b[0;31mKeyboardInterrupt\u001b[0m                         Traceback (most recent call last)",
            "\u001b[0;32m<ipython-input-159-87544fc07eb0>\u001b[0m in \u001b[0;36m<module>\u001b[0;34m()\u001b[0m\n\u001b[1;32m     12\u001b[0m                    verbose=10)\n\u001b[1;32m     13\u001b[0m \u001b[0;34m\u001b[0m\u001b[0m\n\u001b[0;32m---> 14\u001b[0;31m \u001b[0mclf\u001b[0m\u001b[0;34m.\u001b[0m\u001b[0mfit\u001b[0m\u001b[0;34m(\u001b[0m\u001b[0mX_dev\u001b[0m\u001b[0;34m,\u001b[0m \u001b[0mY_dev\u001b[0m\u001b[0;34m)\u001b[0m\u001b[0;34m\u001b[0m\u001b[0;34m\u001b[0m\u001b[0m\n\u001b[0m",
            "\u001b[0;32m/usr/local/lib/python3.6/dist-packages/sklearn/model_selection/_search.py\u001b[0m in \u001b[0;36mfit\u001b[0;34m(self, X, y, groups, **fit_params)\u001b[0m\n\u001b[1;32m    708\u001b[0m                 \u001b[0;32mreturn\u001b[0m \u001b[0mresults\u001b[0m\u001b[0;34m\u001b[0m\u001b[0;34m\u001b[0m\u001b[0m\n\u001b[1;32m    709\u001b[0m \u001b[0;34m\u001b[0m\u001b[0m\n\u001b[0;32m--> 710\u001b[0;31m             \u001b[0mself\u001b[0m\u001b[0;34m.\u001b[0m\u001b[0m_run_search\u001b[0m\u001b[0;34m(\u001b[0m\u001b[0mevaluate_candidates\u001b[0m\u001b[0;34m)\u001b[0m\u001b[0;34m\u001b[0m\u001b[0;34m\u001b[0m\u001b[0m\n\u001b[0m\u001b[1;32m    711\u001b[0m \u001b[0;34m\u001b[0m\u001b[0m\n\u001b[1;32m    712\u001b[0m         \u001b[0;31m# For multi-metric evaluation, store the best_index_, best_params_ and\u001b[0m\u001b[0;34m\u001b[0m\u001b[0;34m\u001b[0m\u001b[0;34m\u001b[0m\u001b[0m\n",
            "\u001b[0;32m/usr/local/lib/python3.6/dist-packages/sklearn/model_selection/_search.py\u001b[0m in \u001b[0;36m_run_search\u001b[0;34m(self, evaluate_candidates)\u001b[0m\n\u001b[1;32m   1149\u001b[0m     \u001b[0;32mdef\u001b[0m \u001b[0m_run_search\u001b[0m\u001b[0;34m(\u001b[0m\u001b[0mself\u001b[0m\u001b[0;34m,\u001b[0m \u001b[0mevaluate_candidates\u001b[0m\u001b[0;34m)\u001b[0m\u001b[0;34m:\u001b[0m\u001b[0;34m\u001b[0m\u001b[0;34m\u001b[0m\u001b[0m\n\u001b[1;32m   1150\u001b[0m         \u001b[0;34m\"\"\"Search all candidates in param_grid\"\"\"\u001b[0m\u001b[0;34m\u001b[0m\u001b[0;34m\u001b[0m\u001b[0m\n\u001b[0;32m-> 1151\u001b[0;31m         \u001b[0mevaluate_candidates\u001b[0m\u001b[0;34m(\u001b[0m\u001b[0mParameterGrid\u001b[0m\u001b[0;34m(\u001b[0m\u001b[0mself\u001b[0m\u001b[0;34m.\u001b[0m\u001b[0mparam_grid\u001b[0m\u001b[0;34m)\u001b[0m\u001b[0;34m)\u001b[0m\u001b[0;34m\u001b[0m\u001b[0;34m\u001b[0m\u001b[0m\n\u001b[0m\u001b[1;32m   1152\u001b[0m \u001b[0;34m\u001b[0m\u001b[0m\n\u001b[1;32m   1153\u001b[0m \u001b[0;34m\u001b[0m\u001b[0m\n",
            "\u001b[0;32m/usr/local/lib/python3.6/dist-packages/sklearn/model_selection/_search.py\u001b[0m in \u001b[0;36mevaluate_candidates\u001b[0;34m(candidate_params)\u001b[0m\n\u001b[1;32m    687\u001b[0m                                \u001b[0;32mfor\u001b[0m \u001b[0mparameters\u001b[0m\u001b[0;34m,\u001b[0m \u001b[0;34m(\u001b[0m\u001b[0mtrain\u001b[0m\u001b[0;34m,\u001b[0m \u001b[0mtest\u001b[0m\u001b[0;34m)\u001b[0m\u001b[0;34m\u001b[0m\u001b[0;34m\u001b[0m\u001b[0m\n\u001b[1;32m    688\u001b[0m                                in product(candidate_params,\n\u001b[0;32m--> 689\u001b[0;31m                                           cv.split(X, y, groups)))\n\u001b[0m\u001b[1;32m    690\u001b[0m \u001b[0;34m\u001b[0m\u001b[0m\n\u001b[1;32m    691\u001b[0m                 \u001b[0;32mif\u001b[0m \u001b[0mlen\u001b[0m\u001b[0;34m(\u001b[0m\u001b[0mout\u001b[0m\u001b[0;34m)\u001b[0m \u001b[0;34m<\u001b[0m \u001b[0;36m1\u001b[0m\u001b[0;34m:\u001b[0m\u001b[0;34m\u001b[0m\u001b[0;34m\u001b[0m\u001b[0m\n",
            "\u001b[0;32m/usr/local/lib/python3.6/dist-packages/joblib/parallel.py\u001b[0m in \u001b[0;36m__call__\u001b[0;34m(self, iterable)\u001b[0m\n\u001b[1;32m   1015\u001b[0m \u001b[0;34m\u001b[0m\u001b[0m\n\u001b[1;32m   1016\u001b[0m             \u001b[0;32mwith\u001b[0m \u001b[0mself\u001b[0m\u001b[0;34m.\u001b[0m\u001b[0m_backend\u001b[0m\u001b[0;34m.\u001b[0m\u001b[0mretrieval_context\u001b[0m\u001b[0;34m(\u001b[0m\u001b[0;34m)\u001b[0m\u001b[0;34m:\u001b[0m\u001b[0;34m\u001b[0m\u001b[0;34m\u001b[0m\u001b[0m\n\u001b[0;32m-> 1017\u001b[0;31m                 \u001b[0mself\u001b[0m\u001b[0;34m.\u001b[0m\u001b[0mretrieve\u001b[0m\u001b[0;34m(\u001b[0m\u001b[0;34m)\u001b[0m\u001b[0;34m\u001b[0m\u001b[0;34m\u001b[0m\u001b[0m\n\u001b[0m\u001b[1;32m   1018\u001b[0m             \u001b[0;31m# Make sure that we get a last message telling us we are done\u001b[0m\u001b[0;34m\u001b[0m\u001b[0;34m\u001b[0m\u001b[0;34m\u001b[0m\u001b[0m\n\u001b[1;32m   1019\u001b[0m             \u001b[0melapsed_time\u001b[0m \u001b[0;34m=\u001b[0m \u001b[0mtime\u001b[0m\u001b[0;34m.\u001b[0m\u001b[0mtime\u001b[0m\u001b[0;34m(\u001b[0m\u001b[0;34m)\u001b[0m \u001b[0;34m-\u001b[0m \u001b[0mself\u001b[0m\u001b[0;34m.\u001b[0m\u001b[0m_start_time\u001b[0m\u001b[0;34m\u001b[0m\u001b[0;34m\u001b[0m\u001b[0m\n",
            "\u001b[0;32m/usr/local/lib/python3.6/dist-packages/joblib/parallel.py\u001b[0m in \u001b[0;36mretrieve\u001b[0;34m(self)\u001b[0m\n\u001b[1;32m    907\u001b[0m             \u001b[0;32mtry\u001b[0m\u001b[0;34m:\u001b[0m\u001b[0;34m\u001b[0m\u001b[0;34m\u001b[0m\u001b[0m\n\u001b[1;32m    908\u001b[0m                 \u001b[0;32mif\u001b[0m \u001b[0mgetattr\u001b[0m\u001b[0;34m(\u001b[0m\u001b[0mself\u001b[0m\u001b[0;34m.\u001b[0m\u001b[0m_backend\u001b[0m\u001b[0;34m,\u001b[0m \u001b[0;34m'supports_timeout'\u001b[0m\u001b[0;34m,\u001b[0m \u001b[0;32mFalse\u001b[0m\u001b[0;34m)\u001b[0m\u001b[0;34m:\u001b[0m\u001b[0;34m\u001b[0m\u001b[0;34m\u001b[0m\u001b[0m\n\u001b[0;32m--> 909\u001b[0;31m                     \u001b[0mself\u001b[0m\u001b[0;34m.\u001b[0m\u001b[0m_output\u001b[0m\u001b[0;34m.\u001b[0m\u001b[0mextend\u001b[0m\u001b[0;34m(\u001b[0m\u001b[0mjob\u001b[0m\u001b[0;34m.\u001b[0m\u001b[0mget\u001b[0m\u001b[0;34m(\u001b[0m\u001b[0mtimeout\u001b[0m\u001b[0;34m=\u001b[0m\u001b[0mself\u001b[0m\u001b[0;34m.\u001b[0m\u001b[0mtimeout\u001b[0m\u001b[0;34m)\u001b[0m\u001b[0;34m)\u001b[0m\u001b[0;34m\u001b[0m\u001b[0;34m\u001b[0m\u001b[0m\n\u001b[0m\u001b[1;32m    910\u001b[0m                 \u001b[0;32melse\u001b[0m\u001b[0;34m:\u001b[0m\u001b[0;34m\u001b[0m\u001b[0;34m\u001b[0m\u001b[0m\n\u001b[1;32m    911\u001b[0m                     \u001b[0mself\u001b[0m\u001b[0;34m.\u001b[0m\u001b[0m_output\u001b[0m\u001b[0;34m.\u001b[0m\u001b[0mextend\u001b[0m\u001b[0;34m(\u001b[0m\u001b[0mjob\u001b[0m\u001b[0;34m.\u001b[0m\u001b[0mget\u001b[0m\u001b[0;34m(\u001b[0m\u001b[0;34m)\u001b[0m\u001b[0;34m)\u001b[0m\u001b[0;34m\u001b[0m\u001b[0;34m\u001b[0m\u001b[0m\n",
            "\u001b[0;32m/usr/local/lib/python3.6/dist-packages/joblib/_parallel_backends.py\u001b[0m in \u001b[0;36mwrap_future_result\u001b[0;34m(future, timeout)\u001b[0m\n\u001b[1;32m    560\u001b[0m         AsyncResults.get from multiprocessing.\"\"\"\n\u001b[1;32m    561\u001b[0m         \u001b[0;32mtry\u001b[0m\u001b[0;34m:\u001b[0m\u001b[0;34m\u001b[0m\u001b[0;34m\u001b[0m\u001b[0m\n\u001b[0;32m--> 562\u001b[0;31m             \u001b[0;32mreturn\u001b[0m \u001b[0mfuture\u001b[0m\u001b[0;34m.\u001b[0m\u001b[0mresult\u001b[0m\u001b[0;34m(\u001b[0m\u001b[0mtimeout\u001b[0m\u001b[0;34m=\u001b[0m\u001b[0mtimeout\u001b[0m\u001b[0;34m)\u001b[0m\u001b[0;34m\u001b[0m\u001b[0;34m\u001b[0m\u001b[0m\n\u001b[0m\u001b[1;32m    563\u001b[0m         \u001b[0;32mexcept\u001b[0m \u001b[0mLokyTimeoutError\u001b[0m\u001b[0;34m:\u001b[0m\u001b[0;34m\u001b[0m\u001b[0;34m\u001b[0m\u001b[0m\n\u001b[1;32m    564\u001b[0m             \u001b[0;32mraise\u001b[0m \u001b[0mTimeoutError\u001b[0m\u001b[0;34m(\u001b[0m\u001b[0;34m)\u001b[0m\u001b[0;34m\u001b[0m\u001b[0;34m\u001b[0m\u001b[0m\n",
            "\u001b[0;32m/usr/lib/python3.6/concurrent/futures/_base.py\u001b[0m in \u001b[0;36mresult\u001b[0;34m(self, timeout)\u001b[0m\n\u001b[1;32m    425\u001b[0m                 \u001b[0;32mreturn\u001b[0m \u001b[0mself\u001b[0m\u001b[0;34m.\u001b[0m\u001b[0m__get_result\u001b[0m\u001b[0;34m(\u001b[0m\u001b[0;34m)\u001b[0m\u001b[0;34m\u001b[0m\u001b[0;34m\u001b[0m\u001b[0m\n\u001b[1;32m    426\u001b[0m \u001b[0;34m\u001b[0m\u001b[0m\n\u001b[0;32m--> 427\u001b[0;31m             \u001b[0mself\u001b[0m\u001b[0;34m.\u001b[0m\u001b[0m_condition\u001b[0m\u001b[0;34m.\u001b[0m\u001b[0mwait\u001b[0m\u001b[0;34m(\u001b[0m\u001b[0mtimeout\u001b[0m\u001b[0;34m)\u001b[0m\u001b[0;34m\u001b[0m\u001b[0;34m\u001b[0m\u001b[0m\n\u001b[0m\u001b[1;32m    428\u001b[0m \u001b[0;34m\u001b[0m\u001b[0m\n\u001b[1;32m    429\u001b[0m             \u001b[0;32mif\u001b[0m \u001b[0mself\u001b[0m\u001b[0;34m.\u001b[0m\u001b[0m_state\u001b[0m \u001b[0;32min\u001b[0m \u001b[0;34m[\u001b[0m\u001b[0mCANCELLED\u001b[0m\u001b[0;34m,\u001b[0m \u001b[0mCANCELLED_AND_NOTIFIED\u001b[0m\u001b[0;34m]\u001b[0m\u001b[0;34m:\u001b[0m\u001b[0;34m\u001b[0m\u001b[0;34m\u001b[0m\u001b[0m\n",
            "\u001b[0;32m/usr/lib/python3.6/threading.py\u001b[0m in \u001b[0;36mwait\u001b[0;34m(self, timeout)\u001b[0m\n\u001b[1;32m    293\u001b[0m         \u001b[0;32mtry\u001b[0m\u001b[0;34m:\u001b[0m    \u001b[0;31m# restore state no matter what (e.g., KeyboardInterrupt)\u001b[0m\u001b[0;34m\u001b[0m\u001b[0;34m\u001b[0m\u001b[0m\n\u001b[1;32m    294\u001b[0m             \u001b[0;32mif\u001b[0m \u001b[0mtimeout\u001b[0m \u001b[0;32mis\u001b[0m \u001b[0;32mNone\u001b[0m\u001b[0;34m:\u001b[0m\u001b[0;34m\u001b[0m\u001b[0;34m\u001b[0m\u001b[0m\n\u001b[0;32m--> 295\u001b[0;31m                 \u001b[0mwaiter\u001b[0m\u001b[0;34m.\u001b[0m\u001b[0macquire\u001b[0m\u001b[0;34m(\u001b[0m\u001b[0;34m)\u001b[0m\u001b[0;34m\u001b[0m\u001b[0;34m\u001b[0m\u001b[0m\n\u001b[0m\u001b[1;32m    296\u001b[0m                 \u001b[0mgotit\u001b[0m \u001b[0;34m=\u001b[0m \u001b[0;32mTrue\u001b[0m\u001b[0;34m\u001b[0m\u001b[0;34m\u001b[0m\u001b[0m\n\u001b[1;32m    297\u001b[0m             \u001b[0;32melse\u001b[0m\u001b[0;34m:\u001b[0m\u001b[0;34m\u001b[0m\u001b[0;34m\u001b[0m\u001b[0m\n",
            "\u001b[0;31mKeyboardInterrupt\u001b[0m: "
          ]
        }
      ]
    },
    {
      "cell_type": "code",
      "metadata": {
        "id": "6LufZvE_OzHY",
        "colab_type": "code",
        "colab": {}
      },
      "source": [
        "IF_best = clf.best_estimator_\n",
        "Y_predicted = IF_best.predict(X_eval)\n",
        "roc_auc = roc_auc_score(Y_eval,Y_predicted)\n",
        "\n",
        "print(classification_report(Y_eval,\n",
        "                           Y_predicted,\n",
        "                           target_names=['anomalo','normal']))\n",
        "\n",
        "print('Área sob a curva ROC: {:0.3f}'.format(roc_auc))\n",
        "\n",
        "IF_probs = IF_best.decision_function(X_eval)\n",
        "fpr, tpr, thresold = roc_curve(Y_eval, IF_probs)\n",
        "\n",
        "plt.plot(fpr, tpr, lw = 1)\n",
        "plt.plot([0,1],[0,1], '--', color=(0.6, 0.6, 0.6), label='sorte')\n",
        "plt.xlim([-0.05,1.05])\n",
        "plt.ylim([-0.05,1.05])\n",
        "plt.xlabel('Taxa de positivos falsos', fontsize=15)\n",
        "plt.ylabel('Taxa de positivos verdadeiros', fontsize=15)\n",
        "plt.title('Curva ROC', fontsize=12)\n",
        "plt.show()"
      ],
      "execution_count": 0,
      "outputs": []
    },
    {
      "cell_type": "code",
      "metadata": {
        "id": "K0TTfqssO0Nx",
        "colab_type": "code",
        "colab": {}
      },
      "source": [
        "cnf_matrix_IF = confusion_matrix(Y_eval, Y_predicted)\n",
        "print(cnf_matrix_IF)"
      ],
      "execution_count": 0,
      "outputs": []
    },
    {
      "cell_type": "code",
      "metadata": {
        "id": "0UzVP4edO1DP",
        "colab_type": "code",
        "colab": {}
      },
      "source": [
        "X['fraude'] = Y\n",
        "X_anomalias = X[X['fraude'] == 1]\n",
        "X_normal = X[X['fraude'] == 0]\n",
        "\n",
        "train_idxs = sample(list(X_normal.index), int(0.7* X_normal.shape[0]))\n",
        "X_train = X_normal.loc[train_idxs]\n",
        "\n",
        "X_testing = X_normal.drop(train_idxs)\n",
        "X_testing = pd.concat([X_testing, X_anomalias], axis=0)\n",
        "\n",
        "X_train = X_train.sample(frac=1).reset_index(drop=True)\n",
        "X_testing = X_testing.sample(frac=1).reset_index(drop=True)\n",
        "\n",
        "Y_testing = X_testing['fraude']\n",
        "X_testing = X_testing[ [ col for col in X_testing.columns if col != 'fraude']]\n",
        "\n",
        "X_cv, X_eval, Y_cv, Y_eval = train_test_split(X_testing, Y_testing, train_size = 0.7, random_state=23)\n",
        "\n",
        "Y_cv = Y_cv.apply(lambda x: 1 if x==0 else -1)\n",
        "Y_eval = Y_eval.apply(lambda x: 1 if x ==0 else -1)\n",
        "\n",
        "X_train = X_train[ [col for col in X_testing.columns if col !='fraude']]"
      ],
      "execution_count": 0,
      "outputs": []
    },
    {
      "cell_type": "code",
      "metadata": {
        "id": "hy5qOCNRO2NA",
        "colab_type": "code",
        "colab": {}
      },
      "source": [
        "param_grid = {'nu': np.linspace(0.001, 0.01, 5), 'gamma': [0.01, 0.03, 0.1, 0.3]}\n",
        "param_list = list(itertools.product(param_grid['nu'],param_grid['gamma']))"
      ],
      "execution_count": 0,
      "outputs": []
    },
    {
      "cell_type": "code",
      "metadata": {
        "id": "R_1Mose9O2_h",
        "colab_type": "code",
        "colab": {}
      },
      "source": [
        "def random_gridsearch(param_list, n_sample, X_train, X_cv, Y_cv):\n",
        "    f1_max = 0\n",
        "    param_list = sample(param_list, n_sample)\n",
        "    remaining_fits = n_sample\n",
        "\n",
        "    for params in param_list:\n",
        "        nu, gamma = params\n",
        "        OCSVM = OneClassSVM(kernel='rbf', nu = nu, gamma=gamma, random_state=1  )\n",
        "        print('Fitando modelo...')\n",
        "        OCSVM.fit(X_train)\n",
        "        cv_preds = OCSVM.predict(X_cv)\n",
        "        f1 = f1_score(Y_cv.values, cv_preds, average='binary')\n",
        "        \n",
        "        if f1 > f1_max:\n",
        "            f1_max = f1\n",
        "            OCSVN_best = OCSVM\n",
        "            remaining_fits -=1\n",
        "        \n",
        "    return f1_max, OCSVM\n",
        "    \n",
        "f1_max, OCSVM_best = random_gridsearch(param_list, 10, X_train, X_cv, Y_cv)"
      ],
      "execution_count": 0,
      "outputs": []
    },
    {
      "cell_type": "code",
      "metadata": {
        "id": "lrcp4YQMO4Mq",
        "colab_type": "code",
        "colab": {}
      },
      "source": [
        "OCSVM_best.fit(X_train)\n",
        "Y_predicted = OCSVM_best.predict(X_eval)\n",
        "roc_auc = roc_auc_score(Y_eval,Y_predicted)\n",
        "\n",
        "print(classification_report(Y_eval,\n",
        "                           Y_predicted,\n",
        "                           target_names=['anormais','normais']))\n",
        "\n",
        "print('Área sob a curva ROC: {:0.3f}'.format(roc_auc))\n",
        "\n",
        "OCSVM_probs = OCSVM_best.decision_function(X_eval)\n",
        "fpr, tpr, thresholds = roc_curve(Y_eval, OCSVM_probs)\n",
        "\n",
        "plt.plot(fpr,tpr, lw=1, label='ROC')\n",
        "plt.plot([0,1],[0,1],'--', color=(0.6, 0.6, 0.6),label='sorte')\n",
        "plt.xlim([-0.05, 1.05])\n",
        "plt.ylim([-0.05, 1.05])\n",
        "plt.xlabel('Taxa de positivos falsos', fontsize=15)\n",
        "plt.ylabel('Taxa de positivos verdadeiros',fontsize=15)\n",
        "plt.title('Curva ROC')\n",
        "plt.show()"
      ],
      "execution_count": 0,
      "outputs": []
    },
    {
      "cell_type": "code",
      "metadata": {
        "id": "2bLBjefYO5IA",
        "colab_type": "code",
        "colab": {}
      },
      "source": [
        "print(confusion_matrix(Y_eval,Y_predicted))"
      ],
      "execution_count": 0,
      "outputs": []
    },
    {
      "cell_type": "markdown",
      "metadata": {
        "id": "qsTkW8pUO7zP",
        "colab_type": "text"
      },
      "source": [
        "# **Melhorando Performance do Modelo**"
      ]
    },
    {
      "cell_type": "code",
      "metadata": {
        "colab_type": "code",
        "id": "qmkFTCRzPLiC",
        "colab": {}
      },
      "source": [
        "decision_tree = DecisionTreeClassifier(random_state=1)\n",
        "decision_tree.fit(X_dev,Y_dev)\n",
        "\n",
        "Y_predicted = decision_tree.predict(X_eval)\n",
        "roc_auc = roc_auc_score(Y_eval, Y_predicted)\n",
        "\n",
        "cv_preds = decision_tree.predict(X_cv)\n",
        "print(classification_report(Y_eval,\n",
        "                           Y_predicted,\n",
        "                           target_names=['anormais','normais']))\n",
        "\n",
        "print('Área sob a curva ROC: {:0.3f}'.format(roc_auc))\n",
        "\n",
        "dt_probs = decision_tree.predict_proba(X_eval)\n",
        "fpr, tpr, _ = roc_curve(Y_eval, Y_predicted)\n",
        "\n",
        "plt.plot(fpr, tpr, lw=1, label='ROC')\n",
        "plt.plot([0,1],[0,1],'--',color=(0.6,0.6,0.6),label='sorte')\n",
        "plt.xlim([-0.05, 1.05])\n",
        "plt.ylim([-0.05,1.05])\n",
        "plt.xlabel('Taxa de positivos falsos',fontsize=15)\n",
        "plt.ylabel('Taxa de positivos verdadeiro',fontsize=15)\n",
        "plt.title('Curva ROC')\n",
        "plt.show()"
      ],
      "execution_count": 0,
      "outputs": []
    },
    {
      "cell_type": "code",
      "metadata": {
        "id": "7nZur7nNPACn",
        "colab_type": "code",
        "colab": {}
      },
      "source": [
        "print(confusion_matrix(Y_eval,Y_predicted))"
      ],
      "execution_count": 0,
      "outputs": []
    }
  ]
}